{
 "cells": [
  {
   "cell_type": "code",
   "execution_count": 1,
   "metadata": {},
   "outputs": [],
   "source": [
    "import numpy as np\n",
    "pi = np.pi"
   ]
  },
  {
   "cell_type": "markdown",
   "metadata": {},
   "source": [
    "# Modeling the car physics"
   ]
  },
  {
   "cell_type": "markdown",
   "metadata": {},
   "source": [
    "## Definitions"
   ]
  },
  {
   "cell_type": "markdown",
   "metadata": {},
   "source": [
    "### Electrical\n",
    "* $\\tau$: motor torque, Nm\n",
    "* $\\omega$: motor rotational speed, rad/s\n",
    "* $V$: voltage across the motor terminals (will be $u$ when we construct the controller)\n",
    "* $I$: motor current\n",
    "* $R$: Resistance of the motor windings\n",
    "* $L$: Winding inductance\n",
    "* $K_t$: Motor torque constant in $\\frac{N m}{A}$\n",
    "* $K_v$: Motor velocity constant in $\\frac {V s}{radians}$"
   ]
  },
  {
   "cell_type": "markdown",
   "metadata": {},
   "source": [
    "### Mechanical\n",
    "* $v$: velocity of the car in m/s\n",
    "* $a$: acceleration of the car in $\\frac{m}{s^2}$\n",
    "* $m$: mass of the car in kg\n",
    "* $d$: drag coefficient of the car in $\\frac{Ns}{m}$\n",
    "* $F_{net}$: Net force on the car in N\n",
    "* $F_m$: The force the wheels apply to the car in N. Proportional to motor torque.\n",
    "* $r_w$: car wheel radius in m\n",
    "* $G_r$: gear ratio, expressed as shaft gear/motor gear. Larger than 1.\n",
    "* $\\omega_{axle}$: rotational speed of the rear drive axle in rad/s\n",
    "* $\\tau_{axle}$: torque applied by motor/chain to the rear drive axle in Nm"
   ]
  },
  {
   "cell_type": "markdown",
   "metadata": {},
   "source": [
    "## Modeling the motor\n",
    "[DC motor modeling](https://pages.mtu.edu/~wjendres/ProductRealization1Course/DC_Motor_Calculations.pdf)\n",
    "\n",
    "We will use the following equivalent circuit model for the brushed DC motor:\n",
    "\n",
    "![motor model](dc-motor-equivalent-circuit.png \"https://www.precisionmicrodrives.com/content/dc-motor-speed-voltage-and-torque-relationships/\")"
   ]
  },
  {
   "cell_type": "markdown",
   "metadata": {},
   "source": [
    "Ignoring the effects of the inductance, the fundamental equations are:\n",
    "$$\\tau = K_tI$$\n",
    "$$V = V_{EMF} + IR$$\n",
    "$$V_{EMF} = K_v \\omega$$\n",
    "\n",
    "Rearranging, we have:\n",
    "$$V = K_v \\omega + IR$$\n",
    "\n",
    "or\n",
    "$$I = \\frac{V - K_v \\omega}{R}$$\n",
    "\n",
    "Plugging this back in, we arrive at the final equation for torque in terms of voltage and rotational speed:\n",
    "$$\\tau = K_t\\frac{V - K_v \\omega}{R} = -\\frac{K_t K_v \\omega}{R} + \\frac{K_t V}{R}$$"
   ]
  },
  {
   "cell_type": "markdown",
   "metadata": {},
   "source": [
    "### Converting motor torque and angular velocity to linear force and velocity\n",
    "At the rear drive shaft we have\n",
    "$$\\omega_{axle} = \\frac{\\omega}{G_r}$$\n",
    "$$\\tau_{axle} = G_r \\tau$$\n",
    "\n",
    "Then\n",
    "$$v = r_w \\omega_{axle} = \\frac{r_w \\omega}{G_r}$$\n",
    "$$F_m = \\frac{\\tau_{axle}}{r_w} = \\frac{G_r}{r_w} \\tau$$\n",
    "\n",
    "Rewriting the first equation,\n",
    "$$\\omega = \\frac{G_r}{r_w} v$$"
   ]
  },
  {
   "cell_type": "markdown",
   "metadata": {},
   "source": [
    "## Modeling the car's physics\n",
    "![Car model](car_sum_forces.png)\n",
    "\n",
    "Using Newton's law:\n",
    "$$ma = F_{net} = F_m - dv$$\n",
    "\n",
    "Combining with the above motor modeling:\n",
    "$$ma = \\frac{G_r}{r_w} \\tau - dv = \\frac{G_r}{r_w}(-\\frac{K_t K_v \\omega}{R} + \\frac{K_t V}{R}) - dv = \\frac{G_r}{r_w}(-\\frac{K_t K_v \\frac{G_r}{r_w} v}{R} + \\frac{K_t V}{R}) - dv $$"
   ]
  },
  {
   "cell_type": "markdown",
   "metadata": {},
   "source": [
    "Simplifying\n",
    "$$ma = -\\frac{K_t K_v G_r^2 v}{r_w^2 R} v - dv + \\frac{G_r K_t}{r_w R} V = -(\\frac{K_t K_v G_r^2}{r_w^2 R} + d) v + \\frac{G_r K_t}{r_w R} V$$"
   ]
  },
  {
   "cell_type": "markdown",
   "metadata": {},
   "source": [
    "## The results\n",
    "We have\n",
    "$$\\dot{v} = a = -(\\frac{K_t K_v G_r^2}{r_w^2 R m} + \\frac{d}{m}) v + \\frac{G_r K_t}{r_w R m} V$$\n",
    "\n",
    "Lumping everything into constants,\n",
    "$$ \\dot{v} = -\\gamma_1 v + \\gamma_2 V $$\n",
    "\n",
    "where\n",
    "$$\\gamma_1 = \\frac{K_t K_v G_r^2}{r_w^2 R m} + \\frac{d}{m}$$\n",
    "$$\\gamma_2 = \\frac{G_r K_t}{r_w R m}$$\n",
    "\n",
    "#### Units of $K_v$\n",
    "$K_v$ is given in $\\frac{V}{RPM} = \\frac{V}{\\frac{rev}{min}} = \\frac{V min}{rev}$. Converting: $\\frac{V min}{rev} \\frac{60 sec}{min} \\frac{rev}{2 \\pi radian} = \\frac{V s}{radian}$ as desired.\n",
    " "
   ]
  },
  {
   "cell_type": "code",
   "execution_count": 2,
   "metadata": {},
   "outputs": [
    {
     "name": "stdout",
     "output_type": "stream",
     "text": [
      "3.6925074976410697\n",
      "1.3575757575757577\n"
     ]
    }
   ],
   "source": [
    "#Define mechanical constants\n",
    "m = 200   #Check this\n",
    "Gr = 64/22 #Gear ratio\n",
    "rw = 0.27/2 #Tire radius\n",
    "d = 1   #TODO: find what the real drag constant is\n",
    "\n",
    "#Define electrical constants\n",
    "R = 0.01  #ohms\n",
    "Kv = 0.0132 * 60/(2*pi)\n",
    "Kt = 0.1260\n",
    "\n",
    "\n",
    "gamma_1 = Kt*Kv*Gr**2/(rw**2 * R*m) + d/m\n",
    "gamma_2 = Gr*Kt/(rw*R*m)\n",
    "\n",
    "print(gamma_1)\n",
    "print(gamma_2)"
   ]
  },
  {
   "cell_type": "markdown",
   "metadata": {},
   "source": [
    "# Creating the controller"
   ]
  },
  {
   "cell_type": "markdown",
   "metadata": {},
   "source": [
    "## Definitions\n",
    "### Variables\n",
    " * $x$ is our system state variable velocity in $\\frac{m}{s}$. This is usually a vector, but our system is first-order, so it is a scalar.\n",
    " * $y$ is our system output variable velocity in $\\frac{m}{s}$ (Yes, $x$ and $y$ are the same)\n",
    " * $u$ is the voltage output from the controller in volts. The same thing as $V$ before.\n",
    " * $\\sigma$ is the error integral in $\\frac{m}{s} s = m$\n",
    " * $r$ is the car's target (reference) velocity\n",
    " * $u_{ref}$ and $x_{ref}$ are reference values of $u$ and $x$ derived from plant inversion\n",
    " \n",
    "### Constants\n",
    " * $n$ is the system order (1 for us).\n",
    " * $A$, $B$, $C$ are all matricies that represent the car's physics\n",
    " * $k_{1}$ is the P gain of our controller. This is usually a matrix, but $x$ and $u$ are scalars so $k_{1}$ is scalar too.\n",
    " * $k_{2}$ is the I gain of our controller. This is a scalar."
   ]
  },
  {
   "cell_type": "markdown",
   "metadata": {},
   "source": [
    "## Converting the model to state-space form\n",
    "\n",
    "In order to more easily use our control-design machinery, we shall place the model in state-space form:\n",
    "$$ \\dot{x} = A x + B u $$\n",
    "$$ y = C x $$"
   ]
  },
  {
   "cell_type": "code",
   "execution_count": 3,
   "metadata": {},
   "outputs": [],
   "source": [
    "A = -gamma_1\n",
    "B = gamma_2\n",
    "C = 1"
   ]
  },
  {
   "cell_type": "markdown",
   "metadata": {},
   "source": [
    "## The controller equations\n",
    "We shall implement PI trajectory-following control with state feedback\n",
    "\n",
    "$$ u = u_{ref} - k_{1} (x - x_{ref}) - k_{2} \\sigma $$\n",
    "$$ \\dot{\\sigma} = y - r $$\n",
    "\n",
    "We have no need of an estimator because we directly measure the state variable, velocity, with our speed sensor."
   ]
  },
  {
   "cell_type": "markdown",
   "metadata": {},
   "source": [
    "## Determining the gains $k_{1}$ and $k_{2}$\n",
    "It can be shown that the overall system eigenvalues, which control how fast the car settles to the desired velocity, are given by the eigenvalues of\n",
    "$$\\mathscr{A} - \\mathscr{B}\\mathscr{K}$$\n",
    "\n",
    "There are $$n + 1$$ eigenvalues to place.\n",
    "\n",
    "$\\mathscr{A} = \\begin{pmatrix}A & 0 \\\\C & 0\\end{pmatrix}$ is a square matrix, $\\mathscr{B} = \\begin{pmatrix}B \\\\ 0\\end{pmatrix}$ is a column vector, and \n",
    "$\\mathscr{K} = \\begin{pmatrix}k_{1} & k_{2}\\end{pmatrix}$ is a row vector.\n",
    "\n",
    "### Check for controllability and commandability\n",
    "We can place the eigenvalues of $\\mathscr{A} - \\mathscr{B}\\mathscr{K}$ anywhere we want provided that $A$ and $B$ are controllable and commandable, which is identical to checking if $\\mathscr{A}$ and $\\mathscr{B}$ are controllable.\n",
    "\n",
    "$\\mathscr{A}$ and $\\mathscr{B}$ are controllable if and only if $|\\mathscr{C}| \\neq 0$, where $\\mathscr{C}$ is a square matrix:\n",
    "$$\\mathscr{C} = \\begin{pmatrix} B & AB & \\cdots & A^{n-1}B\\end{pmatrix}$$\n",
    "\n",
    "In our case, the system is controllable and commandable, so we may continue with the design:\n",
    "$$|\\mathscr{C}| = |\\begin{pmatrix} B \\end{pmatrix}| = |B| = \\gamma_{2} \\neq 0$$\n",
    "\n",
    "### Calculation of $\\mathscr{K}$\n",
    "Fortunately, Scipy can do the math for us if we tell it $\\mathscr{A}$, $\\mathscr{B}$, and where we want the poles to be (this is a key design parameter). See [the documentation for the function](https://docs.scipy.org/doc/scipy/reference/generated/scipy.signal.place_poles.html)."
   ]
  },
  {
   "cell_type": "code",
   "execution_count": 4,
   "metadata": {},
   "outputs": [
    {
     "name": "stdout",
     "output_type": "stream",
     "text": [
      "k_1 = -4.266802397815968  k_2 = 0.8102678571428593\n",
      "[1.  1.1]\n"
     ]
    }
   ],
   "source": [
    "from scipy.signal import place_poles\n",
    "\n",
    "A_script = np.array([[A, 0],\n",
    "                     [C, 0]])\n",
    "B_script = np.array([[B],\n",
    "                     [0]])\n",
    "\n",
    "desired_poles = [1, 1.1]\n",
    "\n",
    "results = place_poles(A_script, B_script, desired_poles)\n",
    "#Results is returned as a 2-d matrix, when we want a 1-d matrix. The [0] converts it.\n",
    "k_1, k_2 = K_script = results.gain_matrix[0]\n",
    "actual_poles = results.computed_poles\n",
    "\n",
    "print(\"k_1 =\", k_1, \" k_2 =\", k_2)   #the gains\n",
    "print(actual_poles) #where the poles actually ended up. Should be very close to our desired poles"
   ]
  },
  {
   "cell_type": "markdown",
   "metadata": {},
   "source": [
    "## Creating $u_{ref}$ and $x_{ref}$ via plant inversion\n",
    "In general, the inverse plant is also given by a state-space model\n",
    "$$ \\dot{x_{inv}} = A_{inv} x_{inv}+ B_{inv} u_{inv} $$\n",
    "$$ y_{inv} = C_{inv} x_{inv} + D_{inv} u_{inv}$$\n",
    "\n",
    "where\n",
    " * $y_{inv} = \\begin{pmatrix}u_{ref} \\\\ x_{ref}\\end{pmatrix}$ is the output of the inverse system, which will be used in the controller. $x_{ref}$ is a vector the same size as $x$.\n",
    " * $x_{inv}$ is NOT $x_{ref}$. It is some artificial state used in the system.\n",
    " * $u_{inv} = \\begin{pmatrix}r \\\\ \\dot{r} \\\\ \\vdots \\\\ r^{(\\rho)}\\end{pmatrix}$, the input to the inverse system, is derivatives of the reference signal.\n",
    "\n",
    "and our job is to determine $A_{inv}$, $B_{inv}$, $C_{inv}$, and $D_{inv}$.\n",
    " \n",
    "**Do not be confused!** $y_{inv}$, $x_{inv}$, and $u_{inv}$ are not the same as $y$, $x$, or $u$.\n",
    "\n",
    "### Determine the relative degree of the plant, $\\rho$\n",
    "The relative degree is $\\rho =$ Number Plant Poles $-$ Number Plant Zeros, where $1 \\leq \\rho \\leq n$ (provided plant is controllable and commandable, as we already showed). For us, $n = 1$, so $1 \\leq \\rho \\leq 1$, or $\\rho = 1$."
   ]
  },
  {
   "cell_type": "code",
   "execution_count": 5,
   "metadata": {},
   "outputs": [],
   "source": [
    "system_order = 1"
   ]
  },
  {
   "cell_type": "markdown",
   "metadata": {},
   "source": [
    "### Variable change to normal form\n",
    "Our goal is to find two matricies $M$ and $N$. M is given explicitly, while N is defined implicitly (N is not unique) by satisfying the following properties:\n",
    " * $M = \\begin{pmatrix}CA^{0} \\\\ CA^{1} \\\\ \\vdots \\\\ CA^{\\rho - 1}\\end{pmatrix}$\n",
    " * $S = \\begin{pmatrix}M \\\\ N\\end{pmatrix}$ is square\n",
    " * $|S| \\neq 0$ (So S is invertible and can be used to change variables).\n",
    "\n",
    "#### For our system\n",
    "$$M = \\begin{pmatrix} CA^{0} \\end{pmatrix} = C = 1$$\n",
    "\n",
    "and $N$ has no size at all:\n",
    "$$S = \\begin{pmatrix} M \\end{pmatrix} = 1$$\n",
    "\n",
    "### Inverse variable change\n",
    "Using the $S$ found above, find\n",
    "\n",
    "$$S^{-1} = \\begin{pmatrix}Q & R\\end{pmatrix}$$\n",
    "\n",
    "where $Q$ is a $n \\times \\rho$ matrix and $R$ is a $n \\times (n -\\rho)$ matrix.\n",
    "\n",
    "#### For our system\n",
    "$n = \\rho = 1$, so $R$ is a $1 \\times 0$ matrix and \n",
    "$$S^{-1} = 1 = \\begin{pmatrix}Q & R\\end{pmatrix} = \\begin{pmatrix} Q \\end{pmatrix}$$"
   ]
  },
  {
   "cell_type": "code",
   "execution_count": 6,
   "metadata": {},
   "outputs": [],
   "source": [
    "Q = 1"
   ]
  },
  {
   "cell_type": "markdown",
   "metadata": {},
   "source": [
    "### Putting it all together: \n",
    "Because $N$ and $R$ do not exist in our case, $A_{inv}$, $B_{inv}$, $C_{inv}$ do not exist and the inverse plant has no state variables $x_{inv}$. The model becomes\n",
    "$$ \\begin{pmatrix}u_{ref} \\\\ x_{ref}\\end{pmatrix} = y_{inv} = D_{inv} u_{inv} = D_{inv} \\begin{pmatrix}r \\\\ \\dot{r}\\end{pmatrix}$$\n",
    "\n",
    "Using the formula for $D_{inv}$,\n",
    "$$\\gamma_{inv} = \\frac{1}{C A^{\\rho-1} B} = \\frac{1}{C B}$$\n",
    "$$D_{inv} = \\begin{pmatrix} -\\gamma_{inv} C A^{\\rho} Q & \\gamma_{inv} \\\\ Q & 0\\end{pmatrix} = \\begin{pmatrix} -\\gamma_{inv} C A Q & \\gamma_{inv} \\\\ Q & 0\\end{pmatrix}$$\n",
    "\n",
    "Unpacking the matrix, we find\n",
    "\n",
    "$ u_{ref} = (-\\gamma_{inv} C A Q) r + (\\gamma_{inv}) \\dot{r} =$ k_inv_r_to_u $r + $ k_inv_r_dot_to_u $\\dot{r}$\n",
    "\n",
    "$ x_{ref} = Q r =$ k_inv_r_to_x $r$\n",
    "\n"
   ]
  },
  {
   "cell_type": "code",
   "execution_count": 7,
   "metadata": {},
   "outputs": [
    {
     "name": "stdout",
     "output_type": "stream",
     "text": [
      "2.719927397815966\n",
      "0.7366071428571428\n",
      "1\n"
     ]
    }
   ],
   "source": [
    "#BEWARE: Python uses @ for matrix multiplication. We use * here because the matricies are 1-D\n",
    "gamma_inv = 1/(C * B)\n",
    "\n",
    "k_inv_r_to_u = -gamma_inv * C * A * Q\n",
    "k_inv_r_dot_to_u = gamma_inv\n",
    "k_inv_r_to_x = Q\n",
    "\n",
    "print(k_inv_r_to_u)\n",
    "print(k_inv_r_dot_to_u)\n",
    "print(k_inv_r_to_x)"
   ]
  }
 ],
 "metadata": {
  "kernelspec": {
   "display_name": "Python 3",
   "language": "python",
   "name": "python3"
  },
  "language_info": {
   "codemirror_mode": {
    "name": "ipython",
    "version": 3
   },
   "file_extension": ".py",
   "mimetype": "text/x-python",
   "name": "python",
   "nbconvert_exporter": "python",
   "pygments_lexer": "ipython3",
   "version": "3.7.9"
  }
 },
 "nbformat": 4,
 "nbformat_minor": 4
}

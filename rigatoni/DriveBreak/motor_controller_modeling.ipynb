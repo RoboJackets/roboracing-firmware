{
 "cells": [
  {
   "cell_type": "code",
   "execution_count": 1,
   "metadata": {},
   "outputs": [],
   "source": [
    "%matplotlib inline\n",
    "import numpy as np\n",
    "pi = np.pi"
   ]
  },
  {
   "cell_type": "markdown",
   "metadata": {},
   "source": [
    "# Modeling the car physics"
   ]
  },
  {
   "cell_type": "markdown",
   "metadata": {},
   "source": [
    "## Definitions"
   ]
  },
  {
   "cell_type": "markdown",
   "metadata": {},
   "source": [
    "### Electrical\n",
    "* $\\tau$: motor torque, Nm\n",
    "* $\\omega$: motor rotational speed, rad/s\n",
    "* $V$: voltage across the motor terminals (will be $u$ when we construct the controller)\n",
    "* $I$: motor current\n",
    "* $R$: Resistance of the motor windings\n",
    "* $L$: Winding inductance\n",
    "* $K_t$: Motor torque constant in $\\frac{N m}{A}$\n",
    "* $K_v$: Motor velocity constant in $\\frac {V s}{radians}$"
   ]
  },
  {
   "cell_type": "markdown",
   "metadata": {},
   "source": [
    "### Mechanical\n",
    "* $v$: velocity of the car in m/s\n",
    "* $a$: acceleration of the car in $\\frac{m}{s^2}$\n",
    "* $m$: mass of the car in kg\n",
    "* $d$: drag coefficient of the car in $\\frac{Ns}{m}$\n",
    "* $F_{net}$: Net force on the car in N\n",
    "* $F_m$: The force the wheels apply to the car in N. Proportional to motor torque.\n",
    "* $r_w$: car wheel radius in m\n",
    "* $G_r$: gear ratio, expressed as shaft gear/motor gear. Larger than 1.\n",
    "* $\\omega_{axle}$: rotational speed of the rear drive axle in rad/s\n",
    "* $\\tau_{axle}$: torque applied by motor/chain to the rear drive axle in Nm"
   ]
  },
  {
   "cell_type": "markdown",
   "metadata": {},
   "source": [
    "## Modeling the motor\n",
    "[DC motor modeling](https://pages.mtu.edu/~wjendres/ProductRealization1Course/DC_Motor_Calculations.pdf)\n",
    "\n",
    "We will use the following equivalent circuit model for the brushed DC motor:\n",
    "\n",
    "![motor model](dc-motor-equivalent-circuit.png \"https://www.precisionmicrodrives.com/content/dc-motor-speed-voltage-and-torque-relationships/\")"
   ]
  },
  {
   "cell_type": "markdown",
   "metadata": {},
   "source": [
    "Ignoring the effects of the inductance, the fundamental equations are:\n",
    "$$\\tau = K_tI$$\n",
    "$$V = V_{EMF} + IR$$\n",
    "$$V_{EMF} = K_v \\omega$$\n",
    "\n",
    "Rearranging, we have:\n",
    "$$V = K_v \\omega + IR$$\n",
    "\n",
    "or\n",
    "$$I = \\frac{V - K_v \\omega}{R}$$\n",
    "\n",
    "Plugging this back in, we arrive at the final equation for torque in terms of voltage and rotational speed:\n",
    "$$\\tau = K_t\\frac{V - K_v \\omega}{R} = -\\frac{K_t K_v \\omega}{R} + \\frac{K_t V}{R}$$"
   ]
  },
  {
   "cell_type": "markdown",
   "metadata": {},
   "source": [
    "### Converting motor torque and angular velocity to linear force and velocity\n",
    "At the rear drive shaft we have\n",
    "$$\\omega_{axle} = \\frac{\\omega}{G_r}$$\n",
    "$$\\tau_{axle} = G_r \\tau$$\n",
    "\n",
    "Then\n",
    "$$v = r_w \\omega_{axle} = \\frac{r_w \\omega}{G_r}$$\n",
    "$$F_m = \\frac{\\tau_{axle}}{r_w} = \\frac{G_r}{r_w} \\tau$$\n",
    "\n",
    "Rewriting the first equation,\n",
    "$$\\omega = \\frac{G_r}{r_w} v$$"
   ]
  },
  {
   "cell_type": "markdown",
   "metadata": {},
   "source": [
    "## Modeling the car's physics\n",
    "![Car model](car_sum_forces.png)\n",
    "\n",
    "Using Newton's law:\n",
    "$$ma = F_{net} = F_m - dv$$\n",
    "\n",
    "Combining with the above motor modeling:\n",
    "$$ma = \\frac{G_r}{r_w} \\tau - dv = \\frac{G_r}{r_w}(-\\frac{K_t K_v \\omega}{R} + \\frac{K_t V}{R}) - dv = \\frac{G_r}{r_w}(-\\frac{K_t K_v \\frac{G_r}{r_w} v}{R} + \\frac{K_t V}{R}) - dv $$"
   ]
  },
  {
   "cell_type": "markdown",
   "metadata": {},
   "source": [
    "Simplifying\n",
    "$$ma = -\\frac{K_t K_v G_r^2 v}{r_w^2 R} v - dv + \\frac{G_r K_t}{r_w R} V = -(\\frac{K_t K_v G_r^2}{r_w^2 R} + d) v + \\frac{G_r K_t}{r_w R} V$$"
   ]
  },
  {
   "cell_type": "markdown",
   "metadata": {},
   "source": [
    "## The results\n",
    "We have\n",
    "$$\\dot{v} = a = -(\\frac{K_t K_v G_r^2}{r_w^2 R m} + \\frac{d}{m}) v + \\frac{G_r K_t}{r_w R m} V$$\n",
    "\n",
    "Lumping everything into constants,\n",
    "$$ \\dot{v} = -\\gamma_1 v + \\gamma_2 V $$\n",
    "\n",
    "where\n",
    "$$\\gamma_1 = \\frac{K_t K_v G_r^2}{r_w^2 R m} + \\frac{d}{m}$$\n",
    "$$\\gamma_2 = \\frac{G_r K_t}{r_w R m}$$\n",
    "\n",
    "#### Units of $K_v$\n",
    "$K_v$ is given in $\\frac{V}{RPM} = \\frac{V}{\\frac{rev}{min}} = \\frac{V min}{rev}$. Converting: $\\frac{V min}{rev} \\frac{60 sec}{min} \\frac{rev}{2 \\pi radian} = \\frac{V s}{radian}$ as desired.\n",
    " "
   ]
  },
  {
   "cell_type": "code",
   "execution_count": 2,
   "metadata": {},
   "outputs": [
    {
     "name": "stdout",
     "output_type": "stream",
     "text": [
      "3.6925074976410697\n",
      "1.3575757575757577\n"
     ]
    }
   ],
   "source": [
    "#Define mechanical constants\n",
    "m = 200   #Check this\n",
    "Gr = 64/22 #Gear ratio\n",
    "rw = 0.27/2 #Tire radius\n",
    "d = 1   #TODO: find what the real drag constant is\n",
    "\n",
    "#Define electrical constants\n",
    "R = 0.01  #ohms\n",
    "Kv = 0.0132 * 60/(2*pi)\n",
    "Kt = 0.1260\n",
    "\n",
    "\n",
    "gamma_1 = Kt*Kv*Gr**2/(rw**2 * R*m) + d/m\n",
    "gamma_2 = Gr*Kt/(rw*R*m)\n",
    "\n",
    "print(gamma_1)\n",
    "print(gamma_2)"
   ]
  },
  {
   "cell_type": "markdown",
   "metadata": {},
   "source": [
    "# Creating the controller"
   ]
  },
  {
   "cell_type": "markdown",
   "metadata": {},
   "source": [
    "## Definitions\n",
    "### Variables\n",
    " * $x$ is our system state variable velocity in $\\frac{m}{s}$. This is usually a vector, but our system is first-order, so it is a scalar.\n",
    " * $y$ is our system output variable velocity in $\\frac{m}{s}$ (Yes, $x$ and $y$ are the same)\n",
    " * $u$ is the voltage output from the controller in volts. The same thing as $V$ before.\n",
    " * $\\sigma$ is the error integral in $\\frac{m}{s} s = m$\n",
    " * $r$ is the car's target (reference) velocity\n",
    " * $u_{ref}$ and $x_{ref}$ are reference values of $u$ and $x$ derived from plant inversion\n",
    " \n",
    "### Constants\n",
    " * $n$ is the system order (1 for us).\n",
    " * $A$, $B$, $C$ are all matricies that represent the car's physics\n",
    " * $k_{1}$ is the P gain of our controller. This is usually a matrix, but $x$ and $u$ are scalars so $k_{1}$ is scalar too.\n",
    " * $k_{2}$ is the I gain of our controller. This is a scalar."
   ]
  },
  {
   "cell_type": "markdown",
   "metadata": {},
   "source": [
    "## Converting the model to state-space form\n",
    "\n",
    "In order to more easily use our control-design machinery, we shall place the model in state-space form:\n",
    "$$ \\dot{x} = A x + B u $$\n",
    "$$ y = C x $$"
   ]
  },
  {
   "cell_type": "code",
   "execution_count": 3,
   "metadata": {},
   "outputs": [],
   "source": [
    "A = -gamma_1\n",
    "B = gamma_2\n",
    "C = 1"
   ]
  },
  {
   "cell_type": "markdown",
   "metadata": {},
   "source": [
    "## The controller equations\n",
    "We shall implement PI trajectory-following control with state feedback\n",
    "\n",
    "$$ u = u_{ref} - k_{1} (x - x_{ref}) - k_{2} \\sigma $$\n",
    "$$ \\dot{\\sigma} = y - r $$\n",
    "\n",
    "We have no need of an estimator because we directly measure the state variable, velocity, with our speed sensor."
   ]
  },
  {
   "cell_type": "markdown",
   "metadata": {},
   "source": [
    "## Determining the gains $k_{1}$ and $k_{2}$\n",
    "It can be shown that the overall system eigenvalues, which control how fast the car settles to the desired velocity, are given by the eigenvalues of\n",
    "$$\\mathscr{A} - \\mathscr{B}\\mathscr{K}$$\n",
    "\n",
    "There are $$n + 1$$ eigenvalues to place.\n",
    "\n",
    "$\\mathscr{A} = \\begin{pmatrix}A & 0 \\\\C & 0\\end{pmatrix}$ is a square matrix, $\\mathscr{B} = \\begin{pmatrix}B \\\\ 0\\end{pmatrix}$ is a column vector, and \n",
    "$\\mathscr{K} = \\begin{pmatrix}k_{1} & k_{2}\\end{pmatrix}$ is a row vector.\n",
    "\n",
    "### Check for controllability and commandability\n",
    "We can place the eigenvalues of $\\mathscr{A} - \\mathscr{B}\\mathscr{K}$ anywhere we want provided that $A$ and $B$ are controllable and commandable, which is identical to checking if $\\mathscr{A}$ and $\\mathscr{B}$ are controllable.\n",
    "\n",
    "$\\mathscr{A}$ and $\\mathscr{B}$ are controllable if and only if $|\\mathscr{C}| \\neq 0$, where $\\mathscr{C}$ is a square matrix:\n",
    "$$\\mathscr{C} = \\begin{pmatrix} B & AB & \\cdots & A^{n-1}B\\end{pmatrix}$$\n",
    "\n",
    "In our case, the system is controllable and commandable, so we may continue with the design:\n",
    "$$|\\mathscr{C}| = |\\begin{pmatrix} B \\end{pmatrix}| = |B| = \\gamma_{2} \\neq 0$$\n",
    "\n",
    "### Calculation of $\\mathscr{K}$\n",
    "Fortunately, Scipy can do the math for us if we tell it $\\mathscr{A}$, $\\mathscr{B}$, and where we want the poles to be (this is a key design parameter). See [the documentation for the function](https://docs.scipy.org/doc/scipy/reference/generated/scipy.signal.place_poles.html)."
   ]
  },
  {
   "cell_type": "code",
   "execution_count": 4,
   "metadata": {},
   "outputs": [
    {
     "name": "stdout",
     "output_type": "stream",
     "text": [
      "k_1 = 0.2338672450408942  k_2 = 2.9611607142851484\n",
      "[-2.01 -2.  ]\n"
     ]
    }
   ],
   "source": [
    "from scipy.signal import place_poles\n",
    "\n",
    "A_script = np.array([[A, 0],\n",
    "                     [C, 0]])\n",
    "B_script = np.array([[B],\n",
    "                     [0]])\n",
    "\n",
    "desired_poles = [-2, -2.01]\n",
    "\n",
    "results = place_poles(A_script, B_script, desired_poles)\n",
    "#Results is returned as a 2-d matrix, when we want a 1-d matrix. The [0] converts it.\n",
    "k_1, k_2 = K_script = results.gain_matrix[0]\n",
    "actual_poles = results.computed_poles\n",
    "\n",
    "print(\"k_1 =\", k_1, \" k_2 =\", k_2)   #the gains\n",
    "print(actual_poles) #where the poles actually ended up. Should be very close to our desired poles"
   ]
  },
  {
   "cell_type": "markdown",
   "metadata": {},
   "source": [
    "## Creating $u_{ref}$ and $x_{ref}$ via plant inversion\n",
    "In general, the inverse plant is also given by a state-space model\n",
    "$$ \\dot{x_{inv}} = A_{inv} x_{inv}+ B_{inv} u_{inv} $$\n",
    "$$ y_{inv} = C_{inv} x_{inv} + D_{inv} u_{inv}$$\n",
    "\n",
    "where\n",
    " * $y_{inv} = \\begin{pmatrix}u_{ref} \\\\ x_{ref}\\end{pmatrix}$ is the output of the inverse system, which will be used in the controller. $x_{ref}$ is a vector the same size as $x$.\n",
    " * $x_{inv}$ is NOT $x_{ref}$. It is some artificial state used in the system.\n",
    " * $u_{inv} = \\begin{pmatrix}r \\\\ \\dot{r} \\\\ \\vdots \\\\ r^{(\\rho)}\\end{pmatrix}$, the input to the inverse system, is derivatives of the reference signal.\n",
    "\n",
    "and our job is to determine $A_{inv}$, $B_{inv}$, $C_{inv}$, and $D_{inv}$.\n",
    " \n",
    "**Do not be confused!** $y_{inv}$, $x_{inv}$, and $u_{inv}$ are not the same as $y$, $x$, or $u$.\n",
    "\n",
    "### Determine the relative degree of the plant, $\\rho$\n",
    "The relative degree is $\\rho =$ Number Plant Poles $-$ Number Plant Zeros, where $1 \\leq \\rho \\leq n$ (provided plant is controllable and commandable, as we already showed). For us, $n = 1$, so $1 \\leq \\rho \\leq 1$, or $\\rho = 1$."
   ]
  },
  {
   "cell_type": "code",
   "execution_count": 5,
   "metadata": {},
   "outputs": [],
   "source": [
    "system_order = 1"
   ]
  },
  {
   "cell_type": "markdown",
   "metadata": {},
   "source": [
    "### Variable change to normal form\n",
    "Our goal is to find two matricies $M$ and $N$. M is given explicitly, while N is defined implicitly (N is not unique) by satisfying the following properties:\n",
    " * $M = \\begin{pmatrix}CA^{0} \\\\ CA^{1} \\\\ \\vdots \\\\ CA^{\\rho - 1}\\end{pmatrix}$\n",
    " * $S = \\begin{pmatrix}M \\\\ N\\end{pmatrix}$ is square\n",
    " * $|S| \\neq 0$ (So S is invertible and can be used to change variables).\n",
    "\n",
    "#### For our system\n",
    "$$M = \\begin{pmatrix} CA^{0} \\end{pmatrix} = C = 1$$\n",
    "\n",
    "and $N$ has no size at all:\n",
    "$$S = \\begin{pmatrix} M \\end{pmatrix} = 1$$\n",
    "\n",
    "### Inverse variable change\n",
    "Using the $S$ found above, find\n",
    "\n",
    "$$S^{-1} = \\begin{pmatrix}Q & R\\end{pmatrix}$$\n",
    "\n",
    "where $Q$ is a $n \\times \\rho$ matrix and $R$ is a $n \\times (n -\\rho)$ matrix.\n",
    "\n",
    "#### For our system\n",
    "$n = \\rho = 1$, so $R$ is a $1 \\times 0$ matrix and \n",
    "$$S^{-1} = 1 = \\begin{pmatrix}Q & R\\end{pmatrix} = \\begin{pmatrix} Q \\end{pmatrix}$$"
   ]
  },
  {
   "cell_type": "code",
   "execution_count": 6,
   "metadata": {},
   "outputs": [],
   "source": [
    "Q = 1"
   ]
  },
  {
   "cell_type": "markdown",
   "metadata": {},
   "source": [
    "### Putting it all together: \n",
    "Because $N$ and $R$ do not exist in our case, $A_{inv}$, $B_{inv}$, $C_{inv}$ do not exist and the inverse plant has no state variables $x_{inv}$. The model becomes\n",
    "$$ \\begin{pmatrix}u_{ref} \\\\ x_{ref}\\end{pmatrix} = y_{inv} = D_{inv} u_{inv} = D_{inv} \\begin{pmatrix}r \\\\ \\dot{r}\\end{pmatrix}$$\n",
    "\n",
    "Using the formula for $D_{inv}$,\n",
    "$$\\gamma_{inv} = \\frac{1}{C A^{\\rho-1} B} = \\frac{1}{C B}$$\n",
    "$$D_{inv} = \\begin{pmatrix} -\\gamma_{inv} C A^{\\rho} Q & \\gamma_{inv} \\\\ Q & 0\\end{pmatrix} = \\begin{pmatrix} -\\gamma_{inv} C A Q & \\gamma_{inv} \\\\ Q & 0\\end{pmatrix}$$\n",
    "\n",
    "Unpacking the matrix, we find\n",
    "\n",
    "$ u_{ref} = (-\\gamma_{inv} C A Q) r + (\\gamma_{inv}) \\dot{r} =$ k_inv_r_to_u $r + $ k_inv_r_dot_to_u $\\dot{r}$\n",
    "\n",
    "$ x_{ref} = Q r =$ k_inv_r_to_x $r$\n",
    "\n"
   ]
  },
  {
   "cell_type": "code",
   "execution_count": 7,
   "metadata": {},
   "outputs": [
    {
     "name": "stdout",
     "output_type": "stream",
     "text": [
      "2.719927397815966\n",
      "0.7366071428571428\n",
      "1\n"
     ]
    }
   ],
   "source": [
    "#BEWARE: Python uses @ for matrix multiplication. We use * here because the matricies are 1-D\n",
    "gamma_inv = 1/(C * B)\n",
    "\n",
    "k_inv_r_to_u = -gamma_inv * C * A * Q\n",
    "k_inv_r_dot_to_u = gamma_inv\n",
    "k_inv_r_to_x = Q\n",
    "\n",
    "print(k_inv_r_to_u)\n",
    "print(k_inv_r_dot_to_u)\n",
    "print(k_inv_r_to_x)"
   ]
  },
  {
   "cell_type": "markdown",
   "metadata": {},
   "source": [
    "# Implementation of the controller"
   ]
  },
  {
   "cell_type": "markdown",
   "metadata": {},
   "source": [
    "## Dealing with the speed sensor\n",
    "\n",
    "### Units of velocity\n",
    "In the above analysis we assumed that our speed sensor gave us the car's true velocity in $\\frac{m}{s}$. This is not the case: we are given the velocity in $\\frac{magnets}{s}$. In software, before using the calculated speed in our controller, we will have to convert the velcity to $\\frac{m}{s}$.\n",
    "\n",
    "### Discretization of velocity\n",
    "Our speed sensor can only count a discrete number of magnets per unit time. So if the time interval over which we measure speed is 1 ms, and we can only measure 0, 1, 2, ... magnets during that interval, our speed will be 0, 1000, 2000, 3000, ... magnets/sec with nothing in-between. This is not what our controller assumes: we assume that our speed sensor gives continuous speed measurements. We need to ensure we have enough magents on the rear axle, and we measure speed requencly enough, that we have sufficient resolution for our controller."
   ]
  },
  {
   "cell_type": "markdown",
   "metadata": {},
   "source": [
    "## Trapezoidal speed control\n",
    "Imagine we start at a commanded speed of 0 and Software then commands a speed of $r = 15 \\frac{m}{s}$. Assuming our controller runs at 100 Hz, this would result in $\\dot{r} = \\frac{15 \\frac{m}{s}}{0.01 s} = 1500 \\frac{m}{s^2}$, an incredibly high acceleration, which would result in an incredibly high commanded voltage.\n",
    "\n",
    "Worse, this problem persists even if Software limits their acceleration to reasonable values: Software only provides us with speed updates at 10 Hz while our controller runs at 100+Hz, so on the controller timesteps when we get no new velocity $\\dot{r} = 0$, while on the timesteps when we do get new velocities $\\dot{r}$ is very large.\n",
    "\n",
    "That is unrealistic. We must smooth the stair-stepped velocities we recieve. The way to do this is to implement an acceleration limit on $r$: insted of saying $r = r_{software}$, we keep $r$ and $r_{software}$ separate. Then, while $\\frac{r_{software} - r}{T} > a_{max}$, we say $r = r + T a_{max}$, slowly increasing our reference velocity. This creates a trapezoidal-looking $r$ in response to a step increase in $r_{software}$ - hence the name.\n",
    "\n",
    "### Finding the maximum acceleration\n",
    "We are limited by two factors: the competition limits us to a maximum power of 10kW and the controller has a maximum motor current of $I_{motor,max} = 300 A$. The power limit caused us to configure the motor controller not to draw more than $I_{batt,max} = 200 A$ from the batteries.\n",
    "\n",
    "Assuming a lossless controller, that means that the maximum current is given by\n",
    "$$I_{max} = \\mathrm{min}(I_{motormax}, \\frac{V_{batt}I_{batt,max}}{V_{motor}})$$\n",
    "\n",
    "As long as $V_{motor} < \\frac{V_{batt}I_{batt,max}}{I_{motor,max}}$, the motor current limit will be the limiting factor. This back-EMF threshold corresponds to a velocity of\n",
    "$$v = \\frac{r_w \\omega}{G_r} = \\frac{r_w}{G_r K_v} V$$\n",
    "\n",
    "As long as the car is moving slower than that,\n",
    "$$I_{max} = I_{motor,max}$$\n",
    "\n",
    "Therefore, the maximum acceleration is given by\n",
    "$$a_{max} = \\frac{F_{net,max}}{m} \\approx \\frac{F_{motor,max}}{m} = \\frac{G_r}{m r_w} \\tau_{max} = \\frac{G_r K_t}{m r_w} I_{motor,max}$$\n",
    "where the approximation is due to our neglecting the drag term included in $F_{net}$."
   ]
  },
  {
   "cell_type": "code",
   "execution_count": 8,
   "metadata": {},
   "outputs": [
    {
     "name": "stdout",
     "output_type": "stream",
     "text": [
      "car's top speed: 17.671458676442587\n",
      "Crossover voltage: 32.0\n",
      "velocity at crossover (m/s): 11.780972450961725\n",
      "Maximum acceleration below crossover (m/s^2): 4.072727272727273\n"
     ]
    }
   ],
   "source": [
    "max_motor_amps = 300\n",
    "max_battery_amps = 200\n",
    "V_batt = 48\n",
    "\n",
    "meters_per_sec_per_V = rw/(Gr*Kv)\n",
    "\n",
    "car_top_speed = meters_per_sec_per_V * V_batt   #Assuming V_emf ~= V_batt at top speed\n",
    "\n",
    "V_crossover = V_batt*max_battery_amps/max_motor_amps\n",
    "vel_crossover = meters_per_sec_per_V * V_crossover\n",
    "a_max = Gr*Kt/(m*rw) * max_motor_amps\n",
    "\n",
    "print(\"car's top speed:\", car_top_speed)\n",
    "print(\"Crossover voltage:\", V_crossover)\n",
    "print(\"velocity at crossover (m/s):\", vel_crossover)\n",
    "print(\"Maximum acceleration below crossover (m/s^2):\", a_max)"
   ]
  },
  {
   "cell_type": "markdown",
   "metadata": {},
   "source": [
    "# Simulation\n",
    "Now simulate the control scheme using the forward Euler method.\n",
    "$$v[k+1] = v[k] + dt\\frac{\\mathrm{d}v}{\\mathrm{d}t} = v[k] +dt(-\\gamma_1 v[k] + \\gamma_2 u[k])$$\n",
    "\n",
    "While recording the position is not required by our model, doing so means we can simulate the discretization effect of the encoder.\n",
    "$$position[k+1] = position[k] + dt * v$$"
   ]
  },
  {
   "cell_type": "markdown",
   "metadata": {},
   "source": [
    "## Non-idealities simulated\n",
    "Critically, this iteration of the simulation assumes that we can use the motor as a brake (regenerative braking). If this is not the case, we need to heavily modify the simulation for accurate results.\n",
    "### Currently implemented\n",
    "* The current + voltage limits of the controller\n",
    "* Variations in parameters\n",
    "* Finite update rate of controller (but we set it high)\n",
    "\n",
    "### To implement\n",
    "* Discretizing effect of the encoder\n",
    "* Anything to do with brakes\n",
    "\n",
    "### Not modeled\n",
    "* Time delays to the brakes\n",
    "* Motor inductance (Time constant is $\\frac{L}{R} = 5 ms$)\n",
    "* Any delays/imperfections in sending an analog signal to the controller"
   ]
  },
  {
   "cell_type": "code",
   "execution_count": 9,
   "metadata": {},
   "outputs": [
    {
     "name": "stdout",
     "output_type": "stream",
     "text": [
      "[[0.00000000e+00 4.00374116e-01]\n",
      " [4.00000000e-02 8.00374116e-01]\n",
      " [8.90000000e-02 1.10037412e+00]\n",
      " ...\n",
      " [5.53870000e+01 1.12942532e+01]\n",
      " [5.54580000e+01 1.16942532e+01]\n",
      " [5.55270000e+01 1.12442532e+01]]\n",
      "0.400374116174075\n"
     ]
    }
   ],
   "source": [
    "#Read in the CSV of commanded velocities\n",
    "import csv\n",
    "ns_per_sec = 1e9\n",
    "with open('software_commanded_vel.csv') as velocity_csv:\n",
    "    velocity_reader = csv.reader(velocity_csv, delimiter=',')\n",
    "    next(velocity_reader)   #Skip first line, the headers\n",
    "    software_velocity_times_commands = np.asarray([(int(line[0]), float(line[1])) for line in velocity_reader])\n",
    "software_velocity_times_commands[:,0] /= ns_per_sec     #Convert times from ns to seconds\n",
    "software_velocity_times_commands[:,0] -= software_velocity_times_commands[0,0]   #Make time start at 0\n",
    "\n",
    "print(software_velocity_times_commands)\n",
    "\n",
    "#Remember the last time and index we were ordered to fe\n",
    "last_gotten_idx = 0\n",
    "last_gotten_time = 0\n",
    "def get_software_vel(time):\n",
    "    '''\n",
    "    Gets the last command software sent at the given time.\n",
    "    Remembers the index of the last time it was called for increased efficiency in case time is monotonically increasing\n",
    "    '''\n",
    "    global last_gotten_idx\n",
    "    global last_gotten_time\n",
    "    \n",
    "    if time > last_gotten_time:\n",
    "        idx = last_gotten_idx\n",
    "    else:\n",
    "        idx = 0\n",
    "\n",
    "    while software_velocity_times_commands[idx + 1, 0] < time:\n",
    "        idx += 1\n",
    "    \n",
    "    last_gotten_idx = idx\n",
    "    last_gotten_time = time\n",
    "    return software_velocity_times_commands[idx, 1]\n",
    "\n",
    "print(get_software_vel(0))"
   ]
  },
  {
   "cell_type": "code",
   "execution_count": 10,
   "metadata": {},
   "outputs": [
    {
     "name": "stderr",
     "output_type": "stream",
     "text": [
      "C:\\Users\\Peter\\AppData\\Roaming\\Python\\Python37\\site-packages\\ipykernel_launcher.py:29: DeprecationWarning: object of type <class 'numpy.float64'> cannot be safely interpreted as an integer.\n"
     ]
    }
   ],
   "source": [
    "#Define simulation physics parameters not already defined above\n",
    "min_voltage = 0\n",
    "\n",
    "start_velocity = 0\n",
    "\n",
    "simulate_encoder_effect = False  #Simulate discretizing effect of encoder or not. NOT IMPLEMENTED CURRENTLY\n",
    "magnets_on_shaft = 64\n",
    "\n",
    "dt = 2e-5  #Timestep\n",
    "end_time = software_velocity_times_commands[-1,0]\n",
    "\n",
    "#Define controller parameters (so we can tweak them)\n",
    "controller_loop_time = 1e-3   #How frequently (in s) the controller runs\n",
    "\n",
    "#For PI control\n",
    "k_1_sim = k_1\n",
    "k_2_sim = k_2\n",
    "\n",
    "#For plant inversion\n",
    "k_inv_r_to_u_sim = k_inv_r_to_u\n",
    "k_inv_r_dot_to_u_sim = k_inv_r_dot_to_u\n",
    "k_inv_r_to_x_sim = k_inv_r_to_x\n",
    "\n",
    "controller_accel_limit = a_max\n",
    "\n",
    "controller_V_batt = 48\n",
    "\n",
    "#Define data logging arrays\n",
    "times, dt = np.linspace(0, end_time, num = round(end_time/dt), retstep=True)  #array of times\n",
    "vel_kart_arr = np.zeros(len(times))  #actual kart velocity\n",
    "vel_trapezoidal_arr = np.zeros(len(times)) #Result of our trapezoidal approximation to software's commands\n",
    "voltage_cmd_arr = np.zeros(len(times)) #The voltage command\n",
    "voltage_realized_arr = np.zeros(len(times))  #The real voltage sent to the motor\n",
    "brake_cmd_arr = np.zeros(len(times)) #The brake command\n"
   ]
  },
  {
   "cell_type": "code",
   "execution_count": 11,
   "metadata": {},
   "outputs": [],
   "source": [
    "#Now write the controller\n",
    "last_call_time = 0\n",
    "error_integral = 0\n",
    "trapezoidal_target_velocity = 0\n",
    "def gen_control_signals(curr_time, est_vel, software_cmd_vel):\n",
    "    '''\n",
    "    The master controller function. Returns the commanded motor voltage and brake signals\n",
    "    '''\n",
    "    global last_call_time\n",
    "    global trapezoidal_target_velocity\n",
    "    global error_integral\n",
    "    global vel_trapezoidal_arr\n",
    "    \n",
    "    #Time\n",
    "    delta_t = curr_time - last_call_time\n",
    "    last_call_time = curr_time\n",
    "    \n",
    "    #Get target velocity + accel\n",
    "    trapezoidal_target_velocity, commanded_accel = gen_target_vel_accel(delta_t, trapezoidal_target_velocity, software_cmd_vel)\n",
    "    \n",
    "    #Get feedforward reference values\n",
    "    voltage_ref, vel_ref = gen_feedforward_reference(trapezoidal_target_velocity, commanded_accel)\n",
    "    \n",
    "    #Get voltage command\n",
    "    voltage_command = gen_PI_control_voltage(voltage_ref, vel_ref, est_vel, error_integral)\n",
    "    \n",
    "    #Update error integral\n",
    "    error_integral += delta_t * conditional_integration(est_vel, trapezoidal_target_velocity, voltage_command)\n",
    "    \n",
    "    return voltage_command, 0  #No brakes for now...\n",
    "    \n",
    "def gen_target_vel_accel(timestep, last_trapezoidal_vel, software_cmd_vel):\n",
    "    #Limit our maximum acceleration in case Software gives us a step as discussed above.\n",
    "    max_delta_v = timestep * controller_accel_limit\n",
    "    trapezoidal_target_vel = min(max(software_cmd_vel, last_trapezoidal_vel - max_delta_v), last_trapezoidal_vel + max_delta_v)\n",
    "    commanded_accel = (trapezoidal_target_vel - last_trapezoidal_vel)/timestep\n",
    "    return trapezoidal_target_vel, commanded_accel\n",
    "\n",
    "def gen_feedforward_reference(target_vel, target_accel):\n",
    "    #Generate the feedforward reference commands as discussed above\n",
    "    voltage_ref = k_inv_r_to_u_sim * target_vel + k_inv_r_dot_to_u_sim * target_accel\n",
    "    vel_ref = k_inv_r_to_x_sim * target_vel\n",
    "    return voltage_ref, vel_ref\n",
    "\n",
    "def gen_PI_control_voltage(voltage_ref, vel_ref, current_vel, err_integral):\n",
    "    return voltage_ref - k_1_sim * (current_vel - vel_ref) - k_2_sim * err_integral\n",
    "\n",
    "def conditional_integration(curr_vel, target_vel, voltage_cmd):\n",
    "    #Calculates sigma dot. Returns 0 if we are saturated to avoid windup\n",
    "    if voltage_cmd < 0 or voltage_cmd > controller_V_batt:\n",
    "        return 0\n",
    "    return curr_vel - target_vel"
   ]
  },
  {
   "cell_type": "code",
   "execution_count": 12,
   "metadata": {},
   "outputs": [
    {
     "name": "stderr",
     "output_type": "stream",
     "text": [
      "C:\\Users\\Peter\\AppData\\Roaming\\Python\\Python37\\site-packages\\ipykernel_launcher.py:36: RuntimeWarning: invalid value encountered in double_scalars\n"
     ]
    }
   ],
   "source": [
    "def get_true_voltage(true_speed, commanded_voltage):\n",
    "    '''\n",
    "    Calculates the effects of the controller's current limit on the voltage output by the controller, as described above\n",
    "    '''\n",
    "    V_back_emf = true_speed/meters_per_sec_per_V\n",
    "    if V_back_emf > 0:\n",
    "        I_max = min(max_motor_amps, V_batt*max_battery_amps/V_back_emf)\n",
    "    else:\n",
    "        I_max = max_motor_amps\n",
    "    \n",
    "    #Check voltage won't cause controller to exceed current limit\n",
    "    if commanded_voltage > V_back_emf + R*I_max:\n",
    "        return V_back_emf + R*I_max\n",
    "    elif commanded_voltage - V_back_emf - R*I_max:\n",
    "        return V_back_emf - R*I_max\n",
    "    \n",
    "    #Now check controller voltage limit\n",
    "    if commanded_voltage > V_batt:\n",
    "        return V_batt\n",
    "    elif commanded_voltage < 0:\n",
    "        return 0\n",
    "    #Voltage isn't clipped\n",
    "    return commanded_voltage\n",
    "\n",
    "#Now write the simulation code\n",
    "command_voltage = 0\n",
    "command_brakes = 0\n",
    "last_controller_execution = -np.inf   #Execute at the beginning\n",
    "car_true_vel = start_velocity\n",
    "car_true_position = 0\n",
    "\n",
    "for i in range(len(times)):\n",
    "    time = times[i]\n",
    "    \n",
    "    #Find software's current vel\n",
    "    software_vel_cmd = get_software_vel(time)\n",
    "    \n",
    "    #Execute the controller\n",
    "    if time - last_controller_execution > controller_loop_time:\n",
    "        command_voltage, command_brakes = gen_control_signals(time, car_true_vel, software_vel_cmd)\n",
    "        last_controller_execution = time\n",
    "    \n",
    "    #Bound the control signals\n",
    "    true_voltage = get_true_voltage(car_true_vel, command_voltage)\n",
    "    \n",
    "    #Car physics:\n",
    "    car_true_vel += dt*(-gamma_1*car_true_vel + gamma_2*true_voltage)\n",
    "    car_true_position += dt*car_true_vel\n",
    "    \n",
    "    #Now do the logs\n",
    "    vel_kart_arr[i] = car_true_vel\n",
    "    vel_trapezoidal_arr[i] = trapezoidal_target_velocity\n",
    "    voltage_cmd_arr[i] = command_voltage\n",
    "    brake_cmd_arr[i] = command_brakes\n",
    "    voltage_realized_arr[i] = true_voltage\n",
    "    \n",
    "    \n",
    "    \n",
    "    "
   ]
  },
  {
   "cell_type": "code",
   "execution_count": 13,
   "metadata": {},
   "outputs": [
    {
     "data": {
      "image/png": "[encoded data removed]",
      "text/plain": [
       "<Figure size 432x288 with 1 Axes>"
      ]
     },
     "metadata": {
      "needs_background": "light"
     },
     "output_type": "display_data"
    },
    {
     "data": {
      "image/png": "[encoded data removed]",
      "text/plain": [
       "<Figure size 432x288 with 1 Axes>"
      ]
     },
     "metadata": {
      "needs_background": "light"
     },
     "output_type": "display_data"
    },
    {
     "data": {
      "image/png": "[encoded data removed]",
      "text/plain": [
       "<Figure size 432x288 with 1 Axes>"
      ]
     },
     "metadata": {
      "needs_background": "light"
     },
     "output_type": "display_data"
    }
   ],
   "source": [
    "#Plots!\n",
    "import matplotlib.pyplot as plt\n",
    "plot_resolution = 10    #Only plot one of every [this] values to accelerate plotting\n",
    "\n",
    "times_to_plot = times[::plot_resolution]\n",
    "\n",
    "plt.figure(1)\n",
    "plt.plot(software_velocity_times_commands[:,0], software_velocity_times_commands[:,1])\n",
    "plt.plot(times_to_plot, vel_trapezoidal_arr[::plot_resolution])\n",
    "plt.plot(times_to_plot, vel_kart_arr[::plot_resolution])\n",
    "\n",
    "plt.title(\"Velocities\")\n",
    "plt.ylabel(\"m/s\")\n",
    "plt.xlabel(\"s\")\n",
    "plt.legend(['Software velocities', 'Trapezoidal Velocities', 'True velocities'])\n",
    "plt.show()\n",
    "\n",
    "plt.figure(2)\n",
    "plt.plot(times_to_plot, vel_kart_arr[::plot_resolution] - vel_trapezoidal_arr[::plot_resolution])\n",
    "\n",
    "plt.title(\"Difference between trapezoidal velocity and true velocity\")\n",
    "plt.ylabel(\"m/s\")\n",
    "plt.xlabel(\"s\")\n",
    "plt.show()\n",
    "\n",
    "plt.figure(3)\n",
    "plt.plot(times_to_plot, voltage_cmd_arr[::plot_resolution])\n",
    "plt.plot(times_to_plot, voltage_realized_arr[::plot_resolution])\n",
    "\n",
    "plt.title(\"Voltages\")\n",
    "plt.ylabel(\"V\")\n",
    "plt.xlabel(\"s\")\n",
    "plt.legend(['Command voltage', 'True Voltage'])\n",
    "plt.show()"
   ]
  },
  {
   "cell_type": "code",
   "execution_count": null,
   "metadata": {},
   "outputs": [],
   "source": []
  }
 ],
 "metadata": {
  "kernelspec": {
   "display_name": "Python 3",
   "language": "python",
   "name": "python3"
  },
  "language_info": {
   "codemirror_mode": {
    "name": "ipython",
    "version": 3
   },
   "file_extension": ".py",
   "mimetype": "text/x-python",
   "name": "python",
   "nbconvert_exporter": "python",
   "pygments_lexer": "ipython3",
   "version": "3.7.9"
  }
 },
 "nbformat": 4,
 "nbformat_minor": 4
}

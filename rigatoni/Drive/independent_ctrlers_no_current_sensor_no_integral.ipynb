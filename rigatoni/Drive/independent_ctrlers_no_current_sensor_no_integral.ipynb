{
 "cells": [
  {
   "cell_type": "code",
   "execution_count": 1,
   "metadata": {},
   "outputs": [],
   "source": [
    "%matplotlib inline\n",
    "import numpy as np\n",
    "pi = np.pi"
   ]
  },
  {
   "cell_type": "markdown",
   "metadata": {},
   "source": [
    "# Our Strategy\n",
    "We are faced with the serious problem that Rigatoni is inheretly non-linear: we must switch from using the motor to accelerate the car to using the brakes to decelerate the car.\n",
    "\n",
    "We will address this by creating two completely separate controllers. One will command the motor voltage; the other will command the braking force. Each will operate independently of the other and we will simply ignore the brake controller when it commands acceleration and the motor controller when it attempts to slow the car. Since the brakes cannot accelerate the car and the motor cannot decelerate the car we hope that together we will achieve effective control.\n",
    "\n",
    "This version uses pure P control and ignores the current sensor."
   ]
  },
  {
   "cell_type": "markdown",
   "metadata": {},
   "source": [
    "# Modeling the car physics"
   ]
  },
  {
   "cell_type": "markdown",
   "metadata": {},
   "source": [
    "## Definitions"
   ]
  },
  {
   "cell_type": "markdown",
   "metadata": {},
   "source": [
    "### Electrical\n",
    "* $\\tau$: motor torque, Nm\n",
    "* $\\omega$: motor rotational speed, rad/s\n",
    "* $V$: voltage across the motor terminals (will be $u$ when we construct the controller)\n",
    "* $I$: motor current\n",
    "* $R$: Resistance of the motor windings\n",
    "* $K_t$: Motor torque constant in $\\frac{N m}{A}$\n",
    "* $K_v$: Motor velocity constant in $\\frac {V s}{radians}$"
   ]
  },
  {
   "cell_type": "markdown",
   "metadata": {},
   "source": [
    "### Mechanical\n",
    "* $v$: velocity of the car in m/s\n",
    "* $a$: acceleration of the car in $\\frac{m}{s^2}$\n",
    "* $m$: mass of the car in kg\n",
    "* $d$: drag coefficient of the car in $\\frac{Ns}{m}$\n",
    "* $F_{net}$: Net force on the car in N\n",
    "* $F_m$: The force the motor applies to the car through the wheels in N. Proportional to motor torque.\n",
    "* $F_b$: The force the brake applies to the car through the wheels in N.\n",
    "* $r_w$: car wheel radius in m\n",
    "* $G_r$: gear ratio, expressed as shaft gear/motor gear. Larger than 1.\n",
    "* $\\omega_{axle}$: rotational speed of the rear drive axle in rad/s\n",
    "* $\\tau_{axle}$: torque applied by motor/chain to the rear drive axle in Nm"
   ]
  },
  {
   "cell_type": "markdown",
   "metadata": {},
   "source": [
    "## Modeling the motor\n",
    "[DC motor modeling](https://pages.mtu.edu/~wjendres/ProductRealization1Course/DC_Motor_Calculations.pdf)\n",
    "\n",
    "We will use the following equivalent circuit model for the brushed DC motor:\n",
    "\n",
    "![motor model](dc-motor-equivalent-circuit.png \"https://www.precisionmicrodrives.com/content/dc-motor-speed-voltage-and-torque-relationships/\")"
   ]
  },
  {
   "cell_type": "markdown",
   "metadata": {},
   "source": [
    "Ignoring the effects of the inductance, the fundamental equations are:\n",
    "$$\\tau = K_tI$$\n",
    "$$V = V_{EMF} + IR$$\n",
    "$$V_{EMF} = K_v \\omega$$\n",
    "\n",
    "Rearranging, we have:\n",
    "$$V = K_v \\omega + IR$$\n",
    "\n",
    "or\n",
    "$$I = \\frac{V - K_v \\omega}{R}$$\n",
    "\n",
    "Plugging this back in, we arrive at the final equation for torque in terms of voltage and rotational speed:\n",
    "$$\\tau = K_t\\frac{V - K_v \\omega}{R} = -\\frac{K_t K_v \\omega}{R} + \\frac{K_t V}{R}$$"
   ]
  },
  {
   "cell_type": "markdown",
   "metadata": {},
   "source": [
    "### Converting motor torque and angular velocity to linear force and velocity\n",
    "At the rear drive shaft we have\n",
    "$$\\omega_{axle} = \\frac{\\omega}{G_r}$$\n",
    "$$\\tau_{axle} = G_r \\tau$$\n",
    "\n",
    "Then\n",
    "$$v = r_w \\omega_{axle} = \\frac{r_w \\omega}{G_r}$$\n",
    "$$F_m = \\frac{\\tau_{axle}}{r_w} = \\frac{G_r}{r_w} \\tau = \\frac{G_r K_t}{r_w} I$$\n",
    "\n",
    "Rewriting the first equation,\n",
    "$$\\omega = \\frac{G_r}{r_w} v$$"
   ]
  },
  {
   "cell_type": "markdown",
   "metadata": {},
   "source": [
    "## Modeling the car's physics\n",
    "![Car model](car_sum_forces.png)\n",
    "\n",
    "Using Newton's Law:\n",
    "$$ma = F_{net} = F_m - dv - F_b$$\n",
    "\n",
    "Combining with the above motor modeling:\n",
    "$$ma = \\frac{G_r}{r_w} \\tau - dv - F_b = \\frac{G_r}{r_w}(-\\frac{K_t K_v \\omega}{R} + \\frac{K_t V}{R}) - dv - F_b = \\frac{G_r}{r_w}(-\\frac{K_t K_v \\frac{G_r}{r_w} v}{R} + \\frac{K_t V}{R}) - dv - F_b$$\n",
    "\n",
    "Simplifying\n",
    "$$ma = -\\frac{K_t K_v G_r^2 v}{r_w^2 R} v - dv + \\frac{G_r K_t}{r_w R} V - F_b = -(\\frac{K_t K_v G_r^2}{r_w^2 R} + d) v + \\frac{G_r K_t}{r_w R} V - F_b$$\n",
    "\n",
    "Placing in canonical form\n",
    "$$\\dot{v} = a = -(\\frac{K_t K_v G_r^2}{r_w^2 R m} + \\frac{d}{m}) v + \\frac{G_r K_t}{r_w R m} V - \\frac{1}{m} F_b$$"
   ]
  },
  {
   "cell_type": "markdown",
   "metadata": {},
   "source": [
    "### Unified equation for simulation\n",
    "Lumping into constants:\n",
    "$$ \\dot{v} = -\\gamma_{speed} v + \\gamma_{volt} V - \\gamma_{brake} F_b $$\n",
    "\n",
    "where\n",
    "$$ \\gamma_{speed} = \\frac{K_t K_v G_r^2}{r_w^2 R m} + \\frac{d}{m} $$\n",
    "$$ \\gamma_{volt} = \\frac{G_r K_t}{r_w R m} $$\n",
    "$$ \\gamma_{brake} = \\frac{1}{m} $$"
   ]
  },
  {
   "cell_type": "markdown",
   "metadata": {},
   "source": [
    "## The results\n",
    "\n",
    "### Motor Only\n",
    "Assuming the brake is applying 0 force\n",
    "$$\\dot{v} = -(\\frac{K_t K_v G_r^2}{r_w^2 R m} + \\frac{d}{m}) v + \\frac{G_r K_t}{r_w R m} V$$\n",
    "\n",
    "Lumping everything into constants,\n",
    "$$ \\dot{v} = -\\gamma_{1m} v + \\gamma_{2m} V $$\n",
    "\n",
    "where\n",
    "$$\\gamma_{speed} = \\gamma_{1m} = \\frac{K_t K_v G_r^2}{r_w^2 R m} + \\frac{d}{m}$$\n",
    "$$\\gamma_{volt} = \\gamma_{2m} = \\frac{G_r K_t}{r_w R m}$$\n",
    "\n",
    "#### Units of $K_v$\n",
    "$K_v$ is given in $\\frac{V}{RPM} = \\frac{V}{\\frac{rev}{min}} = \\frac{V min}{rev}$. Converting: $\\frac{V min}{rev} \\frac{60 sec}{min} \\frac{rev}{2 \\pi radian} = \\frac{V s}{radian}$ as desired.\n",
    " "
   ]
  },
  {
   "cell_type": "code",
   "execution_count": 2,
   "metadata": {},
   "outputs": [
    {
     "name": "stdout",
     "output_type": "stream",
     "text": [
      "2.2071471415091826\n",
      "0.7757575757575756\n"
     ]
    }
   ],
   "source": [
    "#Define mechanical constants\n",
    "m = 100   #Sam said 200-250 pounds\n",
    "Gr = 64/22 #Gear ratio\n",
    "rw = 0.27/2 #Tire radius\n",
    "d = 10 #TODO: find what the real drag constant is\n",
    "\n",
    "#Define electrical constants\n",
    "R = 0.035  #0.01 ohms is spec sheet; we measured 0.032 to 0.046 ohms\n",
    "Kv = 0.0132 * 60/(2*pi)\n",
    "Kt = 0.1260  #0.1260 design\n",
    "\n",
    "\n",
    "gamma_1m = Kt*Kv*Gr**2/(rw**2 * R*m) + d/m\n",
    "gamma_2m = Gr*Kt/(rw*R*m)\n",
    "\n",
    "print(gamma_1m)\n",
    "print(gamma_2m)"
   ]
  },
  {
   "cell_type": "markdown",
   "metadata": {},
   "source": [
    "### Brakes Only\n",
    "We have\n",
    "$$\\dot{v} = a = -\\frac{d}{m} v - \\frac{1}{m} F_b$$\n",
    "\n",
    "Lumping everything into constants:\n",
    "$$ \\dot{v} = -\\gamma_{1b} v + \\gamma_{2b} F_b $$\n",
    "\n",
    "where\n",
    "$$\\gamma_{1b} = \\frac{d}{m}$$\n",
    "$$\\gamma_{brake} = \\gamma_{2b} = -\\frac{1}{m}$$"
   ]
  },
  {
   "cell_type": "code",
   "execution_count": 3,
   "metadata": {},
   "outputs": [
    {
     "name": "stdout",
     "output_type": "stream",
     "text": [
      "0.1\n",
      "-0.01\n"
     ]
    }
   ],
   "source": [
    "gamma_1b = d/m\n",
    "gamma_2b = -1/m\n",
    "print(gamma_1b)\n",
    "print(gamma_2b)"
   ]
  },
  {
   "cell_type": "markdown",
   "metadata": {},
   "source": [
    "# Creating the controller\n",
    "Since the equations for motor and brakes have identical forms, we shall design the controller for the motor and then simply change a few constants for the brakes.\n",
    "\n",
    "Unfortunately, we do not have direct measurements of the car's velocity. We only measure the car's position with an encoder, so we will need an estimator to deduce the car's velocity from that. We will discuss this below, under Creating the Estimator.\n",
    "\n",
    "It turns out that it is perfectly acceptable to do this - linear algebra shows that the overall system converges as fast as the slower of the regulator (our P controller) and estimator. We shall design the estimator to converge much faster than the regulator, so we can ignore the effects of the estimator when designing the regulator.\n",
    "\n",
    "Both controllers are 1st order so we shall place the poles for each in the same spot:"
   ]
  },
  {
   "cell_type": "code",
   "execution_count": 4,
   "metadata": {},
   "outputs": [],
   "source": [
    "desired_poles = [-4]"
   ]
  },
  {
   "cell_type": "markdown",
   "metadata": {},
   "source": [
    "## Definitions\n",
    "### Variables\n",
    " * $\\sigma$ is the error integral in $\\frac{m}{s} s = m$ (Not used this version)\n",
    " * $r$ is the car's target (reference) velocity\n",
    " * $x$ is our system state variable velocity in $\\frac{m}{s}$. This is usually a vector, but our system is first-order, so it is a scalar.\n",
    " * $\\hat{x}$ is our estimated velocity in $\\frac{m}{s}$ from the estimator.\n",
    " * $y$ is our system output variable velocity in $\\frac{m}{s}$ (Yes, $x$ and $y$ are the same)\n",
    "\n",
    "#### Motor Controller\n",
    " * $u_m$ is the voltage output from the controller in volts. The same thing as $V$ before.\n",
    " * $u_{ref,m}$ and $x_{ref,m}$ are reference values of $u_m$ and $x$ derived from plant inversion\n",
    "\n",
    "### Brake Controller\n",
    " * $u_b$ is the voltage output from the controller in volts. The same thing as $F_b$ before.\n",
    " * $u_{ref,b}$ and $x_{ref,b}$ are reference values of $u$ and $x$ derived from plant inversion\n",
    "\n",
    "### Constants\n",
    " * $n$ is the system order (1 for us).\n",
    " * $A_m$, $B_m$, $C_m$ are all matricies that represent the car's physics if the motor is accelerating the car and the brake is disengaged\n",
    " * $A_b$, $B_b$, $C_b$ are all matricies that represent the car's physics if the brake is stopping the car and the motor is coasting\n",
    " * $k_{1m}$ is the P gain of our motor controller. This is usually a matrix, but $x$ and $u_m$ are scalars so $k_{1m}$ is scalar too.\n",
    " * $k_{2m}$ is the I gain of our motor controller. This is a scalar.\n",
    " * $k_{1b}$ is the P gain of our brake controller. This is usually a matrix, but $x$ and $u_b$ are scalars so $k_{1b}$ is scalar too.\n",
    " * $k_{2b}$ is the I gain of our brake controller. This is a scalar. (not used this version)."
   ]
  },
  {
   "cell_type": "markdown",
   "metadata": {},
   "source": [
    "## The Motor Controller"
   ]
  },
  {
   "cell_type": "markdown",
   "metadata": {},
   "source": [
    "### Converting the model to state-space form\n",
    "\n",
    "In order to more easily use our control-design machinery, we shall place the model in state-space form:\n",
    "$$ \\dot{x} = A_m x + B_m u_m $$\n",
    "$$ y = C_m x $$"
   ]
  },
  {
   "cell_type": "code",
   "execution_count": 5,
   "metadata": {},
   "outputs": [],
   "source": [
    "Am = -gamma_1m\n",
    "Bm = gamma_2m\n",
    "Cm = 1"
   ]
  },
  {
   "cell_type": "markdown",
   "metadata": {},
   "source": [
    "### The controller equations\n",
    "We shall implement P trajectory-following control with state feedback\n",
    "\n",
    "$$ u = u_{ref} - k_{1m} (x - x_{ref}) $$"
   ]
  },
  {
   "cell_type": "markdown",
   "metadata": {},
   "source": [
    "### Determining the gains $k_{1m}$\n",
    "It can be shown that the overall system eigenvalues, which control how fast the car settles to the desired velocity, are given by the eigenvalues of\n",
    "$$A_m - B_m * K_m$$\n",
    "\n",
    "There are $$n$ eigenvalues to place.\n",
    "\n",
    "$A_m$ is a square matrix, $B_m$ is a column vector, and \n",
    "$K_{1m}$ is a row vector (1x1 in our case).\n",
    "\n",
    "#### Check for controllability and commandability\n",
    "We can place the eigenvalues of $A_m - B_m K_m$ anywhere we want provided that $A_m$ and $B_m$ are controllable.\n",
    "\n",
    "In our case, the system is controllable, so we may continue with the design:\n",
    "$$|\\mathscr{C_m}| = |\\begin{pmatrix} B_m \\end{pmatrix}| = |B_m| = \\gamma_{2m} \\neq 0$$\n",
    "\n",
    "#### Calculation of $K_m$\n",
    "Fortunately, Scipy can do the math for us if we tell it $A_m$, $B_m$, and where we want the poles to be (this is a key design parameter). See [the documentation for the function](https://docs.scipy.org/doc/scipy/reference/generated/scipy.signal.place_poles.html)."
   ]
  },
  {
   "cell_type": "code",
   "execution_count": 6,
   "metadata": {},
   "outputs": [
    {
     "name": "stdout",
     "output_type": "stream",
     "text": [
      "k_1m = 2.3110993878983197\n",
      "[-4.]\n"
     ]
    }
   ],
   "source": [
    "from scipy.signal import place_poles\n",
    "\n",
    "results_motor = place_poles(np.asarray([[Am]]), np.asarray([[Bm]]), desired_poles)\n",
    "#Results is returned as a 2-d matrix, when we want a 1-d matrix. The [0] converts it.\n",
    "k_1m = results_motor.gain_matrix[0][0]\n",
    "actual_poles = results_motor.computed_poles\n",
    "\n",
    "print(\"k_1m =\", k_1m)   #the gains\n",
    "print(actual_poles) #where the poles actually ended up. Should be very close to our desired poles"
   ]
  },
  {
   "cell_type": "markdown",
   "metadata": {},
   "source": [
    "### Creating $u_{ref,m}$ and $x_{ref,m}$ via plant inversion\n",
    "In general, the inverse plant is also given by a state-space model\n",
    "$$ \\dot{x_{inv}} = A_{inv} x_{inv}+ B_{inv} u_{inv} $$\n",
    "$$ y_{inv} = C_{inv} x_{inv} + D_{inv} u_{inv}$$\n",
    "\n",
    "where\n",
    " * $y_{inv} = \\begin{pmatrix}u_{ref} \\\\ x_{ref}\\end{pmatrix}$ is the output of the inverse system, which will be used in the controller. $x_{ref}$ is a vector the same size as $x$.\n",
    " * $x_{inv}$ is NOT $x_{ref}$. It is some artificial state used in the system.\n",
    " * $u_{inv} = \\begin{pmatrix}r \\\\ \\dot{r} \\\\ \\vdots \\\\ r^{(\\rho)}\\end{pmatrix}$, the input to the inverse system, is derivatives of the reference signal.\n",
    "\n",
    "and our job is to determine $A_{inv}$, $B_{inv}$, $C_{inv}$, and $D_{inv}$.\n",
    " \n",
    "**Do not be confused!** $y_{inv}$, $x_{inv}$, and $u_{inv}$ are not the same as $y$, $x$, or $u$.\n",
    "\n",
    "#### Determine the relative degree of the plant, $\\rho$\n",
    "The relative degree is $\\rho =$ Number Plant Poles $-$ Number Plant Zeros, where $1 \\leq \\rho \\leq n$ (provided plant is controllable and commandable, as we already showed). For us, $n = 1$, so $1 \\leq \\rho \\leq 1$, or $\\rho = 1$."
   ]
  },
  {
   "cell_type": "code",
   "execution_count": 7,
   "metadata": {},
   "outputs": [],
   "source": [
    "system_order = 1"
   ]
  },
  {
   "cell_type": "markdown",
   "metadata": {},
   "source": [
    "#### Variable change to normal form\n",
    "Our goal is to find two matricies $M$ and $N$. M is given explicitly, while N is defined implicitly (N is not unique) by satisfying the following properties:\n",
    " * $M = \\begin{pmatrix}CA^{0} \\\\ CA^{1} \\\\ \\vdots \\\\ CA^{\\rho - 1}\\end{pmatrix}$\n",
    " * $S = \\begin{pmatrix}M \\\\ N\\end{pmatrix}$ is square\n",
    " * $|S| \\neq 0$ (So S is invertible and can be used to change variables).\n",
    "\n",
    "##### For our system\n",
    "$$M = \\begin{pmatrix} CA^{0} \\end{pmatrix} = C = 1$$\n",
    "\n",
    "and $N$ has no size at all:\n",
    "$$S = \\begin{pmatrix} M \\end{pmatrix} = 1$$\n",
    "\n",
    "#### Inverse variable change\n",
    "Using the $S$ found above, find\n",
    "\n",
    "$$S^{-1} = \\begin{pmatrix}Q & R\\end{pmatrix}$$\n",
    "\n",
    "where $Q$ is a $n \\times \\rho$ matrix and $R$ is a $n \\times (n -\\rho)$ matrix.\n",
    "\n",
    "##### For our system\n",
    "$n = \\rho = 1$, so $R$ is a $1 \\times 0$ matrix and \n",
    "$$S^{-1} = 1 = \\begin{pmatrix}Q & R\\end{pmatrix} = \\begin{pmatrix} Q \\end{pmatrix}$$"
   ]
  },
  {
   "cell_type": "code",
   "execution_count": 8,
   "metadata": {},
   "outputs": [],
   "source": [
    "Qm = 1"
   ]
  },
  {
   "cell_type": "markdown",
   "metadata": {},
   "source": [
    "### Putting it all together: \n",
    "Because $N$ and $R$ do not exist in our case, $A_{inv}$, $B_{inv}$, $C_{inv}$ do not exist and the inverse plant has no state variables $x_{inv}$. The model becomes\n",
    "$$ \\begin{pmatrix}u_{ref} \\\\ x_{ref}\\end{pmatrix} = y_{inv} = D_{inv} u_{inv} = D_{inv} \\begin{pmatrix}r \\\\ \\dot{r}\\end{pmatrix}$$\n",
    "\n",
    "Using the formula for $D_{inv}$,\n",
    "$$\\gamma_{inv} = \\frac{1}{C A^{\\rho-1} B} = \\frac{1}{C B}$$\n",
    "$$D_{inv} = \\begin{pmatrix} -\\gamma_{inv} C A^{\\rho} Q & \\gamma_{inv} \\\\ Q & 0\\end{pmatrix} = \\begin{pmatrix} -\\gamma_{inv} C A Q & \\gamma_{inv} \\\\ Q & 0\\end{pmatrix}$$\n",
    "\n",
    "Unpacking the matrix, we find\n",
    "\n",
    "$ u_{ref} = (-\\gamma_{inv} C A Q) r + (\\gamma_{inv}) \\dot{r} =$ k_m_inv_r_to_u $r + $ k_m_inv_r_dot_to_u $\\dot{r}$\n",
    "\n",
    "$ x_{ref} = Q r =$ k_m_inv_r_to_x $r$\n",
    "\n"
   ]
  },
  {
   "cell_type": "code",
   "execution_count": 9,
   "metadata": {},
   "outputs": [
    {
     "name": "stdout",
     "output_type": "stream",
     "text": [
      "2.845150612101681\n",
      "1.2890625000000002\n",
      "1\n"
     ]
    }
   ],
   "source": [
    "#BEWARE: Python uses @ for matrix multiplication. We use * here because the matricies are 1-D\n",
    "gamma_m_inv = 1/(Cm * Bm)\n",
    "\n",
    "k_m_inv_r_to_u = -gamma_m_inv * Cm * Am * Qm\n",
    "k_m_inv_r_dot_to_u = gamma_m_inv\n",
    "k_m_inv_r_to_x = Qm\n",
    "\n",
    "print(k_m_inv_r_to_u)\n",
    "print(k_m_inv_r_dot_to_u)\n",
    "print(k_m_inv_r_to_x)"
   ]
  },
  {
   "cell_type": "markdown",
   "metadata": {},
   "source": [
    "## Creating the brake controller\n",
    "Fortunately the equation for the brakes is identical to the equation for the motor. So we can re-use all of the math above by just changing some constants."
   ]
  },
  {
   "cell_type": "markdown",
   "metadata": {},
   "source": [
    "### Create the constants"
   ]
  },
  {
   "cell_type": "code",
   "execution_count": 10,
   "metadata": {},
   "outputs": [],
   "source": [
    "Ab = -gamma_1b\n",
    "Bb = gamma_2b\n",
    "Cb = 1"
   ]
  },
  {
   "cell_type": "markdown",
   "metadata": {},
   "source": [
    "### Create the PI controller"
   ]
  },
  {
   "cell_type": "code",
   "execution_count": 11,
   "metadata": {},
   "outputs": [
    {
     "name": "stdout",
     "output_type": "stream",
     "text": [
      "k_1b = -390.0\n",
      "[-4.]\n"
     ]
    }
   ],
   "source": [
    "from scipy.signal import place_poles\n",
    "\n",
    "results_brake =  place_poles(np.asarray([[Ab]]), np.asarray([[Bb]]), desired_poles)\n",
    "#Results is returned as a 2-d matrix, when we want a 1-d matrix. The [0] converts it.\n",
    "k_1b = results_brake.gain_matrix[0][0]\n",
    "actual_poles = results_brake.computed_poles\n",
    "\n",
    "print(\"k_1b =\", k_1b)   #the gains\n",
    "print(actual_poles) #where the poles actually ended up. Should be very close to our desired poles"
   ]
  },
  {
   "cell_type": "markdown",
   "metadata": {},
   "source": [
    "### Creating $u_{ref,b}$ and $x_{ref,b}$ via plant inversion"
   ]
  },
  {
   "cell_type": "code",
   "execution_count": 12,
   "metadata": {},
   "outputs": [
    {
     "name": "stdout",
     "output_type": "stream",
     "text": [
      "-10.0\n",
      "-100.0\n",
      "1\n"
     ]
    }
   ],
   "source": [
    "Qb = 1\n",
    "\n",
    "#BEWARE: Python uses @ for matrix multiplication. We use * here because the matricies are 1-D\n",
    "gamma_b_inv = 1/(Cb * Bb)\n",
    "\n",
    "k_b_inv_r_to_u = -gamma_b_inv * Cb * Ab * Qb\n",
    "k_b_inv_r_dot_to_u = gamma_b_inv\n",
    "k_b_inv_r_to_x = Qb\n",
    "\n",
    "print(k_b_inv_r_to_u)\n",
    "print(k_b_inv_r_dot_to_u)\n",
    "print(k_b_inv_r_to_x)"
   ]
  },
  {
   "cell_type": "markdown",
   "metadata": {},
   "source": [
    "# Creating the estimator\n",
    "In the previous section we ignored the car's position, focusing only on its velocity and acceleration. However, we can't do that any more because our encoder measures distance traveled. We need to extend our physics model from a first-order system to a 2nd-order system and add the car's position $pos$ to ur new state vector $x_e$.\n",
    "\n",
    "Further complicating our efforts is the fact that we do not know the voltage applied to the motor. If we command a voltage less than the motor's back-EMF the motor's voltage will be the back-EMF voltage. We shall ignore this inconvenient fact for now."
   ]
  },
  {
   "cell_type": "markdown",
   "metadata": {},
   "source": [
    "## Definitions\n",
    "### Variables\n",
    "Hats indicate estimates.\n",
    " * $x$ is our true velocity in $\\frac{m}{s}$.\n",
    " * $pos$ is our true position in $m$.\n",
    " * $x_e = \\begin{pmatrix}pos \\\\ x\\end{pmatrix}$ is the true state - NOT TO BE CONFUSED with $x$.\n",
    " * $u_e = \\begin{pmatrix}V \\\\ F_b\\end{pmatrix}$ is the control input matrix.\n",
    " * $\\hat{x}$ is our estimated velocity in $\\frac{m}{s}$.\n",
    " * $\\hat{pos}$ is our estimated position in $m$.\n",
    " * $\\hat{x_e} = \\begin{pmatrix}\\hat{pos} \\\\ \\hat{x}\\end{pmatrix}$ is the estimated state - NOT TO BE CONFUSED with $\\hat{x}$.\n",
    " * $enc$ is the encoder's measurement of the position (measurement of $pos$).\n",
    " * $V$ is the motor voltage in $V$.\n",
    " \n",
    "### Constants\n",
    " * $A_e$, $B_e$, $C_e$ are all matricies that represent the car's physics. These are not the same as $A$, $B$, $C$ from before\n",
    " * $L = \\pmatrix{L_{pos} \\\\ L_{vel}}$ is the regulator gain matrix"
   ]
  },
  {
   "cell_type": "markdown",
   "metadata": {},
   "source": [
    "## Modeling the car's position\n",
    "Copying the equations from the modeling section (where $\\gamma_{speed}$, $\\gamma_{volt}$, and $\\gamma_{brake}$ are calculated):\n",
    "$$ \\dot{x} = -\\gamma_{speed} x + \\gamma_{volt} V - \\gamma_{brake} F_b $$\n",
    "\n",
    "where\n",
    "$$ \\gamma_{speed} = \\frac{K_t K_v G_r^2}{r_w^2 R m} + \\frac{d}{m} $$\n",
    "$$ \\gamma_{volt} = \\frac{G_r K_t}{r_w R m} $$\n",
    "$$ \\gamma_{brake} = \\frac{1}{m} $$\n",
    "\n",
    "In order to expand our system model from $x$ to $x_e$, we need to determine the derivative of the position in terms of other state variables and control inputs. This is very easy:\n",
    "$$\\dot{pos} = x$$"
   ]
  },
  {
   "cell_type": "markdown",
   "metadata": {},
   "source": [
    "We can now place our new, expanded system in the state-space form\n",
    "$$ \\dot{x_e} = A_e x_e + B_e u_e $$\n",
    "$$ pos = C_e x_e $$\n",
    "\n",
    "Expanding the state variable $x_e$, we see\n",
    "$$\\begin{pmatrix} \\dot{pos} \\\\ \\dot{x} \\end{pmatrix} = \\begin{pmatrix}0 & 1 \\\\0 & -\\gamma_{speed}\\end{pmatrix} \\begin{pmatrix}pos \\\\ x\\end{pmatrix} + \\begin{pmatrix}0 & 0\\\\ \\gamma_{volt} & \\gamma_{brake}\\end{pmatrix} \\begin{pmatrix}V \\\\ F_b\\end{pmatrix}$$\n",
    "$$enc = \\begin{pmatrix} 1 & 0 \\end{pmatrix} \\begin{pmatrix}pos \\\\ x\\end{pmatrix}$$"
   ]
  },
  {
   "cell_type": "code",
   "execution_count": 13,
   "metadata": {},
   "outputs": [],
   "source": [
    "#Unlike matlab, Numpy does not default to 2-D arrays unless you make your arrays explicitly 2-D\n",
    "\n",
    "A_e = np.array([[0, 1],\n",
    "                [0, -gamma_1m]])\n",
    "B_e = np.array([[0, 0],\n",
    "                [gamma_2m, gamma_2b]])\n",
    "C_e = np.array([[1, 0]])"
   ]
  },
  {
   "cell_type": "markdown",
   "metadata": {},
   "source": [
    "## The estimator equations\n",
    "We shall estimate the state variable $x_e$ using the following formula. Roughly speaking, it assumes the state evolves in time as given by the above equations and then adds a corrective term to account for any discrepancies.\n",
    "$$\\dot{\\hat{x_e}} = A_e \\hat{x_e} + B_e u - L(C_e \\hat{x_e} - enc)$$\n",
    "\n",
    "Rewriting\n",
    "$$\\dot{\\hat{x_e}} = (A_e -L C_e)\\hat{x_e} + B_e u + L enc$$"
   ]
  },
  {
   "cell_type": "markdown",
   "metadata": {},
   "source": [
    "## Determining the gain matrix L\n",
    "It can be shown that estimator's share of the overall system eigenvalues is given by the eigenvalues of \n",
    "$$ A_e - L C_e$$\n",
    "\n",
    "Furthermore, using system duality, these eigenvalues are identical to the eigenvalues of\n",
    "$$ A_e^T - C_e^T L^T $$\n",
    "\n",
    "where the last equation is significant because it permits us to use 'scipy.signal.place_poles' as before.\n",
    "\n",
    "We can use 'place_poles' to place the poles of $A - L C$ anywhere we please provided the system is observable (we omit checking this)."
   ]
  },
  {
   "cell_type": "code",
   "execution_count": 14,
   "metadata": {},
   "outputs": [
    {
     "name": "stdout",
     "output_type": "stream",
     "text": [
      "[[21.80285286]\n",
      " [95.99789564]] \n",
      "\n",
      "[-12.01 -12.  ]\n"
     ]
    }
   ],
   "source": [
    "desired_estimator_poles = [-12, -12.01]\n",
    "\n",
    "est_results = place_poles(A_e.T, C_e.T, desired_estimator_poles)\n",
    "L = est_results.gain_matrix.T   #results is L.T, so we transpose again to get L\n",
    "actual_poles = est_results.computed_poles\n",
    "print(L, '\\n')\n",
    "print(actual_poles)"
   ]
  },
  {
   "cell_type": "markdown",
   "metadata": {},
   "source": [
    "## Conversion from continuous to discrete time"
   ]
  },
  {
   "cell_type": "markdown",
   "metadata": {},
   "source": [
    "The estimator is in the form\n",
    "$$\\dot{\\hat{x_e}} = (A_e - L C_e)\\hat{x_e} + B_e u + L enc = (A_e - L C_e)\\hat{x_e} + \\pmatrix{B_e & L} \\pmatrix{u \\\\ enc} = \\hat A_e \\hat{x_e} + \\hat B_e \\pmatrix{u \\\\ enc}$$\n",
    "\n",
    "$$ \\hat A_e = A_e - L C_e =  \\pmatrix{0 & 1 \\\\0 & -\\gamma_{speed}} - \\pmatrix{L_{pos} & 0 \\\\ L_{vel} & 0} = \\pmatrix{-L_{pos} & 1 \\\\-L_{vel} & -\\gamma_{speed}} $$\n",
    "$$ \\hat B_e = \\pmatrix{B_e & L} = \\pmatrix{0 & 0 & L_{pos} \\\\ \\gamma_{volt} & \\gamma_{brake} & L_{vel}} $$\n",
    "\n",
    "Note that\n",
    "$$ \\hat vel = \\pmatrix{0 & 1} \\hat x$$\n",
    "\n",
    "Therefore, in this system,\n",
    "$$ \\hat C = \\pmatrix{0 & 1} $$\n",
    "\n",
    "Up until now we have been working in continuous time. We are faced with the problem of how to convert our continuous-time estimator from continuous time into discrete time so that it can be implemeted on a real microcontroller. The obvious way to do this is using Forward Euler:\n",
    "$$x[k+1] = x[k] + dt\\frac{\\mathrm{d}x}{\\mathrm{d}t} = x[k] + A x[k] + B u[k]$$\n",
    "\n",
    "Then, if $x(t_k) = x[k]$, $x(t_{k+1}) \\approx x[k+1]$ and the smaller $ T = t_{k+1} - t_k$ the better the approximation is.\n",
    "\n",
    "However, that technique brings with it the problem that if the timestep is too large the resulting differential system of differential equations will be unstable _even if the continuous-time system is stable_. See ECE 4550 Lecture 11."
   ]
  },
  {
   "cell_type": "markdown",
   "metadata": {},
   "source": [
    "### Trapezoidal approximation\n",
    "We can approximate the differential equation using the trapezoidal method (ECE4550 Lecture 11, slide 11):\n",
    "$$ \\xi[k+1] = A_{et} xi[k] + B_{et} \\pmatrix{u \\\\ enc} $$\n",
    "$$ \\hat vel = C_{et} xi[k] + D_{et} \\pmatrix{u \\\\ enc} $$\n",
    "\n",
    "(Note that we defined $\\hat C = I$ above so that the output of the continuous-time system was $\\hat x$. That is important now that the state of the estimator is $\\xi$ not $\\hat x$.)\n",
    "\n",
    "Using the formulas given on the 4550 slide for conversion from continuous-time to trapezoidal and factoring out the determinant, we get:\n",
    "$$det_{inv} = det(I - \\frac{T}{2} A_e) = 1 + L_{pos}*T + \\gamma_s*T + L_{vel}*T^2 + L_{pos}*\\gamma_s*T^2$$\n",
    "$$x_1 = (T*\\xi_2 + \\xi_1*(1 + \\gamma_s*T) + 1/2*enc*T*(L_{pos} + L_{vel}*T + L_{pos}*\\gamma_s*T) - 1/2*Fb*\\gamma_b*T^2 + 1/2*V*\\gamma_v*T^2) / det_{inv} $$\n",
    "$$x_2 = (\\xi_2*(1 + L_{pos}*T) + 1/2*L_{vel}*enc*T - L_{vel}*T*\\xi_1 - 1/2*Fb*\\gamma_b*T*(1 + L_{pos}*T) + 1/2*V*\\gamma_v*T*(1 + L_{pos}*T)) / det_{inv} $$\n",
    "\n",
    "$$\\dot \\xi_1 = (2*T*\\xi_2 - \\xi_1*(- 1 + L_{pos}*T - \\gamma_s*T + L_{vel}*T^2 + L_{pos}*\\gamma_s*T^2) + 1/2*enc*T*(L_{pos} + L_{vel}*T + L_{pos}*\\gamma_s*T) - 1/2*Fb*\\gamma_b*T^2 + 1/2*V*\\gamma_v*T^2) / det_{inv}$$\n",
    "$$\\dot \\xi_2 = (1/2*L_{vel}*enc*T - \\xi_2*(- 1 - L_{pos}*T + \\gamma_s*T + L_{vel}*T^2 + L_{pos}*\\gamma_s*T^2) - 2*L_{vel}*T*\\xi_1 - 1/2*Fb*\\gamma_b*T*(1 + L_{pos}*T) + 1/2*V*\\gamma_v*T*(1 + L_{pos}*T)) / det_{inv}$$"
   ]
  },
  {
   "cell_type": "markdown",
   "metadata": {},
   "source": [
    "# Implementation of the controller"
   ]
  },
  {
   "cell_type": "markdown",
   "metadata": {},
   "source": [
    "## Dealing with the speed sensor: Units of velocity\n",
    "In the above analysis we assumed that our sensor gave us the car's true position in $m$. This is not the case: we are given the position in $magnets$. In software, before using the calculated position in our controller, we will have to convert the position to $m$."
   ]
  },
  {
   "cell_type": "markdown",
   "metadata": {},
   "source": [
    "## Trapezoidal speed control\n",
    "Imagine we start at a commanded speed of 0 and Software then commands a speed of $r = 15 \\frac{m}{s}$. Assuming our controller runs at 100 Hz, this would result in $\\dot{r} = \\frac{15 \\frac{m}{s}}{0.01 s} = 1500 \\frac{m}{s^2}$, an incredibly high acceleration, which would result in an incredibly high commanded voltage.\n",
    "\n",
    "Worse, this problem persists even if Software limits their acceleration to reasonable values: Software only provides us with speed updates at 10 Hz while our controller runs at 100+Hz, so on the controller timesteps when we get no new velocity $\\dot{r} = 0$, while on the timesteps when we do get new velocities $\\dot{r}$ is very large.\n",
    "\n",
    "That is unrealistic. We must smooth the stair-stepped velocities we recieve. The way to do this is to implement an acceleration limit on $r$: insted of saying $r = r_{software}$, we keep $r$ and $r_{software}$ separate. Then, while $\\frac{r_{software} - r}{T} > a_{max}$, we say $r = r + T a_{max}$, slowly increasing our reference velocity. This creates a trapezoidal-looking $r$ in response to a step increase in $r_{software}$ - hence the name.\n",
    "\n",
    "### Finding the maximum acceleration\n",
    "We are limited by two factors: the competition limits us to a maximum power of 10kW and the controller has a maximum motor current of $I_{motor,max} = 300 A$. The power limit caused us to configure the motor controller not to draw more than $I_{batt,max} = 200 A$ from the batteries.\n",
    "\n",
    "Assuming a lossless controller, that means that the maximum current is given by\n",
    "$$I_{max} = \\mathrm{min}(I_{motormax}, \\frac{V_{batt}I_{batt,max}}{V_{motor}})$$\n",
    "\n",
    "As long as $V_{motor} < \\frac{V_{batt}I_{batt,max}}{I_{motor,max}}$, the motor current limit will be the limiting factor. This back-EMF threshold corresponds to a velocity of\n",
    "$$v = \\frac{r_w \\omega}{G_r} = \\frac{r_w}{G_r K_v} V$$\n",
    "\n",
    "As long as the car is moving slower than that,\n",
    "$$I_{max} = I_{motor,max}$$\n",
    "\n",
    "Therefore, the maximum acceleration is given by\n",
    "$$a_{max} = \\frac{F_{net,max}}{m} \\approx \\frac{F_{motor,max}}{m} = \\frac{G_r}{m r_w} \\tau_{max} = \\frac{G_r K_t}{m r_w} I_{motor,max}$$\n",
    "where the approximation is due to our neglecting the drag term included in $F_{net}$."
   ]
  },
  {
   "cell_type": "code",
   "execution_count": 15,
   "metadata": {},
   "outputs": [
    {
     "name": "stdout",
     "output_type": "stream",
     "text": [
      "car's top speed: 16.870811617435933\n",
      "Crossover voltage: 32.0\n",
      "velocity at crossover (m/s): 11.24720774495729\n",
      "Maximum acceleration below crossover (m/s^2): 8.145454545454546\n"
     ]
    }
   ],
   "source": [
    "max_motor_amps = 300\n",
    "max_battery_amps = 200\n",
    "V_batt = 48   #Assume 48\n",
    "\n",
    "V_back_emf_per_speed = Gr*Kv/rw\n",
    "\n",
    "meters_per_sec_per_V_at_steady_state = gamma_2m/gamma_1m   #Using the motor differential equation, if acceleration = 0 this holds:\n",
    "car_top_speed = gamma_2m/gamma_1m * V_batt   \n",
    "\n",
    "V_crossover = V_batt*max_battery_amps/max_motor_amps\n",
    "vel_crossover = meters_per_sec_per_V_at_steady_state * V_crossover\n",
    "accel_max = Gr*Kt/(m*rw) * max_motor_amps\n",
    "\n",
    "print(\"car's top speed:\", car_top_speed)\n",
    "print(\"Crossover voltage:\", V_crossover)\n",
    "print(\"velocity at crossover (m/s):\", vel_crossover)\n",
    "print(\"Maximum acceleration below crossover (m/s^2):\", accel_max)\n",
    "\n",
    "#For the brakes, just assume a constant max deceleration\n",
    "decel_max = 7"
   ]
  },
  {
   "cell_type": "markdown",
   "metadata": {},
   "source": [
    "# Simulation\n",
    "Now simulate the control scheme using the forward Euler method.\n",
    "$$v[k+1] = v[k] + dt\\frac{\\mathrm{d}v}{\\mathrm{d}t} = v[k] +dt(-\\gamma_{1m} v[k] + \\gamma_{2m} u[k])$$\n",
    "\n",
    "While recording the position is not required by our model, doing so means we can simulate the discretization effect of the encoder.\n",
    "$$position[k+1] = position[k] + dt * v$$"
   ]
  },
  {
   "cell_type": "markdown",
   "metadata": {},
   "source": [
    "## Non-idealities simulated\n",
    "### Currently implemented\n",
    "* The current + voltage limits of the controller\n",
    "* Variations in parameters\n",
    "* Finite update rate of controller (but we set it high)\n",
    "\n",
    "### To implement\n",
    "* Discretizing effect of the encoder\n",
    "\n",
    "### Not modeled\n",
    "* Time delays to the brakes\n",
    "* Motor inductance (Time constant is $\\frac{L}{R} = 5 ms$)\n",
    "* Any delays/imperfections in sending an analog signal to the controller"
   ]
  },
  {
   "cell_type": "markdown",
   "metadata": {},
   "source": [
    "## True car parameters\n",
    "These are what the car parameters REALLY are. This lets us simulate model imperfections. Anything starting with 'true_' indicates a parameter that is different in real life than what we designed the controller to."
   ]
  },
  {
   "cell_type": "code",
   "execution_count": 16,
   "metadata": {
    "tags": []
   },
   "outputs": [],
   "source": [
    "#Which file to use: software_commanded_vel.csv or sinusoidal_vels.csv\n",
    "velocity_profile_file_name = \"software_commanded_vel.csv\"\n",
    "\n",
    "#True parameters:\n",
    "true_m = 150  #100 design\n",
    "true_d = 15   #10 design\n",
    "true_Gr = Gr #Gear ratio\n",
    "true_rw = rw #Tire radius\n",
    "true_wheel_circumference = 2*pi*true_rw\n",
    "\n",
    "true_R = 0.035  #0.01 ohms is spec sheet; we measured 0.032 to 0.046 ohms. Design is 0.035 ohms\n",
    "true_Kv = Kv\n",
    "true_Kt = Kt  #0.1260 design\n",
    "\n",
    "#Calculate simulation equation parameters:\n",
    "#v_dot = -gamma_speed * v + gamma_volt * V - gamma_brake * F_b\n",
    "true_gamma_speed = true_Kt*true_Kv*true_Gr**2/(true_rw**2 * true_R*true_m) + true_d/true_m\n",
    "true_gamma_volt = true_Gr*true_Kt/(true_rw * true_R*true_m)\n",
    "true_gamma_brake = 1/true_m\n",
    "\n",
    "#Back-EMF and motor current:\n",
    "true_V_back_emf_per_speed = true_Gr*true_Kv/true_rw\n",
    "true_motor_force_per_amp = true_Gr*true_Kt/true_rw\n",
    "\n",
    "#Errors in the commanded voltage caused by analog transmission from Drive board to Alltrax controller\n",
    "voltage_cmd_bias_V = 0.3    #Voltage command offset in V\n",
    "voltage_command_noise_std_dev = 0.05  #Standard deviation of additive Gaussian noise in voltage commander\n",
    "\n",
    "#Calculate true controller limits:\n",
    "true_max_motor_amps = 300    #300 design\n",
    "true_max_battery_amps = max_battery_amps\n",
    "true_V_batt = 48    #48V designed\n",
    "\n",
    "true_decel_max = 10   #Limit on braking deceleration\n",
    "true_max_braking_force = true_decel_max*true_m"
   ]
  },
  {
   "cell_type": "code",
   "execution_count": 17,
   "metadata": {
    "jupyter": {
     "source_hidden": true
    },
    "tags": []
   },
   "outputs": [
    {
     "name": "stdout",
     "output_type": "stream",
     "text": [
      "[[0.00000000e+00 4.00374116e-01]\n",
      " [4.00000000e-02 8.00374116e-01]\n",
      " [8.90000000e-02 1.10037412e+00]\n",
      " ...\n",
      " [5.55270000e+01 1.12442532e+01]\n",
      " [5.55570000e+01 0.00000000e+00]\n",
      " [6.55570000e+01 0.00000000e+00]]\n",
      "First commanded speed: 0.400374116174075\n"
     ]
    }
   ],
   "source": [
    "#Read in the CSV of commanded velocities\n",
    "import csv\n",
    "ns_per_sec = 1e9\n",
    "with open(velocity_profile_file_name) as velocity_csv:  \n",
    "    velocity_reader = csv.reader(velocity_csv, delimiter=',')\n",
    "    next(velocity_reader)   #Skip first line, the headers\n",
    "    software_velocity_times_commands = np.asarray([(int(line[0]), float(line[1])) for line in velocity_reader])\n",
    "software_velocity_times_commands[:,0] /= ns_per_sec     #Convert times from ns to seconds\n",
    "software_velocity_times_commands[:,0] -= software_velocity_times_commands[0,0]   #Make time start at 0\n",
    "\n",
    "print(software_velocity_times_commands)\n",
    "\n",
    "#Remember the last time and index we were ordered to fe\n",
    "last_gotten_idx = 0\n",
    "last_gotten_time = 0\n",
    "def get_software_vel(time):\n",
    "    '''\n",
    "    Gets the last command software sent at the given time.\n",
    "    Remembers the index of the last time it was called for increased efficiency in case time is monotonically increasing\n",
    "    '''\n",
    "    global last_gotten_idx\n",
    "    global last_gotten_time\n",
    "    \n",
    "    if time > last_gotten_time:\n",
    "        idx = last_gotten_idx\n",
    "    else:\n",
    "        idx = 0\n",
    "\n",
    "    while software_velocity_times_commands[idx + 1, 0] < time:\n",
    "        idx += 1\n",
    "    \n",
    "    last_gotten_idx = idx\n",
    "    last_gotten_time = time\n",
    "    return software_velocity_times_commands[idx, 1]\n",
    "\n",
    "print(\"First commanded speed:\", get_software_vel(0))"
   ]
  },
  {
   "cell_type": "code",
   "execution_count": 18,
   "metadata": {},
   "outputs": [],
   "source": [
    "#Define simulation physics parameters not already defined above\n",
    "min_voltage = 0\n",
    "\n",
    "start_velocity = 0\n",
    "\n",
    "simulate_encoder_effect = True  #Simulate discretizing effect of encoder or not.\n",
    "magnets_on_shaft = 1024\n",
    "\n",
    "dt = 5e-5  #Timestep\n",
    "end_time = software_velocity_times_commands[-1,0]\n",
    "\n",
    "simulate_brake_update_rate = True  #Simulate us sending new force commands to the brakes at a finite rate\n",
    "time_between_brake_updates = 1/5\n",
    "number_of_discrete_braking_levels = -1  #number of levels of discrete brake force (ex. 3 means we can be either Off, 1/2 on, full on). If < 2, we assume the brakes are continuous\n",
    "\n",
    "\n",
    "\n",
    "#Define controller parameters (so we can tweak them)\n",
    "controller_loop_time = 0.01   #How frequently (in s) the controller runs\n",
    "\n",
    "#This is the probability that the next time the controller is called is delayed by a lot\n",
    "prob_controller_call_delayed = controller_loop_time * 1;\n",
    "length_controller_call_delay = 2  #If the controller is delayed, delay for this long.\n",
    "\n",
    "#Overwrite the gains found above with our own gains for testing. \n",
    "k_1m = k_1m\n",
    "\n",
    "k_1b = k_1b\n",
    "\n",
    "#For the estimator. We unpack the L matrix for easier use in our scalar equations\n",
    "L_pos = float(L[0])\n",
    "L_vel = float(L[1])\n",
    "\n",
    "#For plant inversion\n",
    "use_feedforward_control = True    #Disables feedforward (result is 0)\n",
    "\n",
    "controller_accel_limit = 0.75 * accel_max   #Some 'discount' factor times the true max acceleration\n",
    "controller_decel_limit = 0.75 * decel_max\n",
    "\n",
    "velocity_filter_bandwidth = 5\n",
    "\n",
    "sim_controller_limits = True\n",
    "\n",
    "#Define data logging arrays\n",
    "times, dt = np.linspace(0, end_time, num = round(end_time/dt), retstep=True)  #array of times\n",
    "vel_kart_arr = np.zeros(len(times))  #actual kart velocity\n",
    "estimated_vel_arr = np.zeros(len(times))\n",
    "filtered_vel_arr = np.zeros(len(times)) #Result of our trapezoidal approximation to software's commands\n",
    "software_command_velocities_at_timestep_arr = np.zeros(len(times))  #We have Software's velocities at random times they chose - map into our array so we can plot\n",
    "voltage_cmd_arr = np.zeros(len(times)) #The voltage command\n",
    "voltage_realized_arr = np.zeros(len(times))  #The real voltage sent to the motor\n",
    "brake_realized_arr = np.zeros(len(times))    #The realized braking force\n",
    "motor_current_arr = np.zeros(len(times))     #The motor current\n",
    "brake_cmd_arr = np.zeros(len(times)) #The brake command\n"
   ]
  },
  {
   "cell_type": "code",
   "execution_count": 19,
   "metadata": {
    "tags": []
   },
   "outputs": [],
   "source": [
    "#Now write the estimator using the Forward Euler approximation of the equations above\n",
    "est_xi_1 = 0\n",
    "est_xi_2 = 0\n",
    "\n",
    "\n",
    "def estimate_vel(delta_t, enc_pos, requested_motor_voltage, brake_force):\n",
    "    #This implements the estimator equation above after unpacking it to scalar form (for easier transfer to C++)\n",
    "    global est_xi_1\n",
    "    global est_xi_2\n",
    "    \n",
    "    #Estimate the motor's back EMF. We can't be commanding a voltage less than that because\n",
    "    #the controller can't sink current.\n",
    "    # The 0.9 and -1 are fudge factors to account for the fact that our estimate of back-EMF might be wrong\n",
    "    motor_V = max(requested_motor_voltage, 0) #max(requested_motor_voltage, gamma_1m/gamma_2m*est_vel * 0.9 - 1)\n",
    "    \n",
    "    #trapezoidal method approximation. See ECE 4550 Lecture 11 slide 11\n",
    "    det_I_minus_TAc = 1 + 0.5000*L_pos*delta_t + 0.5000*delta_t*gamma_1m + 0.2500*L_vel*delta_t*delta_t + 0.2500*L_pos*delta_t*delta_t*gamma_1m\n",
    "    \n",
    "    new_est_xi_1 = delta_t*est_xi_2 - est_xi_1*(- 1 + 0.5000*L_pos*delta_t - 0.5000*delta_t*gamma_1m + 0.2500*L_vel*delta_t*delta_t + 0.2500*L_pos*delta_t*delta_t*gamma_1m) + 0.5000*delta_t*enc_pos*(2*L_pos + L_vel*delta_t + L_pos*delta_t*gamma_1m) + 0.5000*brake_force*delta_t*delta_t*gamma_2b + 0.5000*delta_t*delta_t*gamma_2m*motor_V\n",
    "    new_est_xi_1 /= det_I_minus_TAc\n",
    "    new_est_xi_2 = L_vel*delta_t*enc_pos - est_xi_2*(- 1 - 0.5000*L_pos*delta_t + 0.5000*delta_t*gamma_1m + 0.2500*L_vel*delta_t*delta_t + 0.2500*L_pos*delta_t*delta_t*gamma_1m) - L_vel*delta_t*est_xi_1 + 0.5000*delta_t*gamma_2m*motor_V*(2 + L_pos*delta_t) + 0.5000*brake_force*delta_t*gamma_2b*(2 + L_pos*delta_t)\n",
    "    new_est_xi_2 /= det_I_minus_TAc\n",
    "    \n",
    "    est_vel = est_xi_2*(1 + 0.5000*L_pos*delta_t) + 0.5000*L_vel*delta_t*enc_pos - 0.5000*L_vel*delta_t*est_xi_1 + 0.5000*brake_force*delta_t*gamma_2b*(1 + 0.5000*L_pos*delta_t) + 0.5000*delta_t*gamma_2m*motor_V*(1 + 0.5000*L_pos*delta_t)\n",
    "    est_vel /= det_I_minus_TAc\n",
    "    \n",
    "    est_xi_1 = new_est_xi_1\n",
    "    est_xi_2 = new_est_xi_2\n",
    "    return est_vel\n",
    "\n"
   ]
  },
  {
   "cell_type": "code",
   "execution_count": 20,
   "metadata": {
    "jupyter": {
     "source_hidden": true
    },
    "tags": []
   },
   "outputs": [],
   "source": [
    "#Now write the controller\n",
    "trapezoidal_target_velocity = 0\n",
    "filtered_target_vel = 0\n",
    "filtered_target_accel = 0\n",
    "\n",
    "def gen_control_signals(delta_t, est_vel, software_cmd_vel):\n",
    "    '''\n",
    "    The master controller function. Returns the commanded motor voltage and brake signals\n",
    "    '''\n",
    "    global trapezoidal_target_velocity\n",
    "    \n",
    "    #Get target velocity + accel\n",
    "    trapezoidal_target_velocity = gen_trapezoidal_vel(delta_t, trapezoidal_target_velocity, software_cmd_vel)\n",
    "    \n",
    "    #Now filter it\n",
    "    target_vel, target_accel = filter_target_vel_accel(delta_t, trapezoidal_target_velocity)\n",
    "    \n",
    "    #For the motor\n",
    "    #Get feedforward reference values\n",
    "    voltage_ref, vel_ref_m = gen_motor_feedforward_reference(target_vel, target_accel)\n",
    "    \n",
    "    #Get voltage command\n",
    "    voltage_command = gen_motor_P_control_voltage(voltage_ref, vel_ref_m, est_vel)\n",
    "    \n",
    "    #For the brakes\n",
    "    #Get feedforward reference values\n",
    "    brake_force_ref, vel_ref_b = gen_brake_feedforward_reference(target_vel, target_accel)\n",
    "    \n",
    "    #Get brake force command\n",
    "    brake_force_command = max(gen_brake_P_control_force(brake_force_ref, vel_ref_b, est_vel), 0)\n",
    "    \n",
    "    return voltage_command, brake_force_command\n",
    "    \n",
    "def gen_trapezoidal_vel(timestep, last_trapezoidal_vel, software_cmd_vel):\n",
    "    #Limit our maximum acceleration in case Software gives us a step as discussed above.\n",
    "    trapezoidal_target_vel = min(max(software_cmd_vel, last_trapezoidal_vel - timestep * controller_decel_limit), last_trapezoidal_vel + timestep * controller_accel_limit)\n",
    "    \n",
    "    #Cap our speed\n",
    "    trapezoidal_target_vel = max(trapezoidal_target_vel, 0)\n",
    "    return trapezoidal_target_vel\n",
    "\n",
    "def filter_target_vel_accel(timestep, trapezoidal_target_vel):\n",
    "    global filtered_target_vel\n",
    "    global filtered_target_accel\n",
    "    \n",
    "    new_filtered_target_vel = filtered_target_vel + timestep*filtered_target_accel\n",
    "    new_filtered_target_accel = filtered_target_accel + timestep*(-np.sqrt(2)*velocity_filter_bandwidth*filtered_target_accel + velocity_filter_bandwidth**2*(trapezoidal_target_vel - filtered_target_vel))\n",
    "   \n",
    "    filtered_target_vel = new_filtered_target_vel\n",
    "    filtered_target_accel = new_filtered_target_accel\n",
    "    return filtered_target_vel, filtered_target_accel\n",
    "\n",
    "def gen_motor_feedforward_reference(target_vel, target_accel):\n",
    "    if not use_feedforward_control:\n",
    "        return 0, target_vel\n",
    "    #Generate the feedforward reference commands as discussed above\n",
    "    voltage_ref = k_m_inv_r_to_u * target_vel + k_m_inv_r_dot_to_u * target_accel\n",
    "    vel_ref_m = k_m_inv_r_to_x * target_vel\n",
    "    return voltage_ref, vel_ref_m\n",
    "\n",
    "def gen_motor_P_control_voltage(voltage_ref, vel_ref_m, current_vel):\n",
    "    return voltage_ref - k_1m * (current_vel - vel_ref_m)\n",
    "\n",
    "def gen_brake_feedforward_reference(target_vel, target_accel):\n",
    "    if not use_feedforward_control:\n",
    "        return 0, target_vel\n",
    "    #Generate the feedforward reference commands as discussed above\n",
    "    brake_force_ref = k_b_inv_r_to_u * target_vel + k_b_inv_r_dot_to_u * target_accel\n",
    "    vel_ref_b = k_b_inv_r_to_x * target_vel\n",
    "    return brake_force_ref, vel_ref_b\n",
    "\n",
    "def gen_brake_P_control_force(brake_force_ref, vel_ref_b, current_vel):\n",
    "    return brake_force_ref - k_1b * (current_vel - vel_ref_b)\n"
   ]
  },
  {
   "cell_type": "code",
   "execution_count": 21,
   "metadata": {
    "jupyter": {
     "source_hidden": true
    },
    "tags": []
   },
   "outputs": [],
   "source": [
    "def get_true_voltage_current(true_speed, commanded_voltage):\n",
    "    '''\n",
    "    Calculates the effects of the controller's current limit on the voltage output by the controller, as described above\n",
    "    '''\n",
    "    V_back_emf = true_speed * true_V_back_emf_per_speed\n",
    "    \n",
    "    if not sim_controller_limits:\n",
    "        desired_motor_current = (commanded_voltage - V_back_emf)/true_R\n",
    "        return commanded_voltage, desired_motor_current\n",
    "    \n",
    "    if V_back_emf > 0:\n",
    "        true_I_max = min(true_max_motor_amps, true_V_batt*true_max_battery_amps/V_back_emf)\n",
    "    else:\n",
    "        true_I_max = true_max_motor_amps\n",
    "    \n",
    "    #Add noise to the commanded voltage\n",
    "    commanded_voltage += np.random.normal(voltage_cmd_bias_V, voltage_command_noise_std_dev)\n",
    "    \n",
    "    #Check voltage won't cause controller to exceed current limit\n",
    "    if commanded_voltage > V_back_emf + true_R*true_I_max:\n",
    "        commanded_voltage = V_back_emf + true_R*true_I_max\n",
    "    elif commanded_voltage < V_back_emf:\n",
    "        commanded_voltage = V_back_emf\n",
    "    \n",
    "    #Now check controller voltage limit\n",
    "    if commanded_voltage > true_V_batt:\n",
    "        commanded_voltage = true_V_batt\n",
    "    elif commanded_voltage < 0:\n",
    "        commanded_voltage = 0\n",
    "\n",
    "    true_motor_current = (commanded_voltage - V_back_emf)/true_R  \n",
    "    return commanded_voltage, true_motor_current\n",
    "\n",
    "def get_true_braking_force(true_vel, braking_force):\n",
    "    #Brakes cannot accelerate car or slow faster than decel_max\n",
    "    if not sim_controller_limits:\n",
    "        return braking_force\n",
    "    \n",
    "    if braking_force < 0:\n",
    "        braking_force = 0\n",
    "    elif braking_force > true_max_braking_force:\n",
    "        braking_force = true_max_braking_force\n",
    "    \n",
    "    #Simulate discretization of braking force by rounding to the nearest permissible level\n",
    "    if number_of_discrete_braking_levels >= 2:\n",
    "        braking_force_per_level = true_max_braking_force/(number_of_discrete_braking_levels - 1)\n",
    "        braking_force = braking_force_per_level*round(braking_force/braking_force_per_level)\n",
    "    \n",
    "    #Check if we are going in reverse\n",
    "    if true_vel == 0:\n",
    "        braking_force = 0\n",
    "    elif true_vel < 0:\n",
    "        braking_force = -braking_force\n",
    "\n",
    "    return braking_force\n",
    "\n",
    "def get_encoder_pos(current_pos):\n",
    "    '''\n",
    "    Calculates the estimated position as determined by the encoder. This may cause serious discretization of the speed values\n",
    "    '''\n",
    "    magnets_per_m = magnets_on_shaft/true_wheel_circumference\n",
    "    \n",
    "    return round(current_pos * magnets_per_m)/magnets_per_m\n",
    "\n",
    "\n",
    "#Now write the simulation code\n",
    "command_voltage = 0\n",
    "sent_brake_command = 0\n",
    "command_brakes = 0\n",
    "last_brake_cmd_send_time = 0\n",
    "last_controller_execution = 0\n",
    "next_controller_call_is_delayed = False;\n",
    "last_encoder_speed_calc_time = 0\n",
    "car_true_vel = start_velocity\n",
    "car_true_position = 0\n",
    "last_encoder_read_position = 0\n",
    "encoder_est_speed = 0\n",
    "\n",
    "for i in range(len(times)):\n",
    "    time = times[i]\n",
    "    \n",
    "    #Find software's current vel\n",
    "    software_vel_cmd = get_software_vel(time)\n",
    "    \n",
    "    #Execute the controller\n",
    "    if time - last_controller_execution > controller_loop_time + next_controller_call_is_delayed*length_controller_call_delay:\n",
    "        timestep = time - last_controller_execution\n",
    "        next_controller_call_is_delayed = np.random.rand() < prob_controller_call_delayed\n",
    "        \n",
    "        if simulate_encoder_effect:\n",
    "            encoder_pos = get_encoder_pos(car_true_position)\n",
    "            encoder_est_speed = estimate_vel(timestep, encoder_pos, command_voltage, sent_brake_command)\n",
    "        else:\n",
    "            encoder_est_speed = car_true_vel\n",
    "        \n",
    "        command_voltage, command_brakes = gen_control_signals(timestep, encoder_est_speed, software_vel_cmd)\n",
    "        \n",
    "        if simulate_brake_update_rate:\n",
    "            if time - last_brake_cmd_send_time > time_between_brake_updates:\n",
    "                last_brake_cmd_send_time = time\n",
    "                sent_brake_command = command_brakes\n",
    "        else:\n",
    "            sent_brake_command = command_brakes\n",
    "        last_controller_execution = time\n",
    "    \n",
    "    #Bound the control signals\n",
    "    true_voltage, true_motor_current = get_true_voltage_current(car_true_vel, command_voltage)\n",
    "    true_brake_force = get_true_braking_force(car_true_vel, sent_brake_command)\n",
    "    \n",
    "    #Car physics:\n",
    "    car_true_position += dt*car_true_vel\n",
    "    car_true_vel += dt*(-true_gamma_speed*car_true_vel + true_gamma_volt*true_voltage - true_gamma_brake*true_brake_force)\n",
    "    \n",
    "    #Now do the logs\n",
    "    vel_kart_arr[i] = car_true_vel\n",
    "    estimated_vel_arr[i] = encoder_est_speed\n",
    "    filtered_vel_arr[i] = filtered_target_vel\n",
    "    software_command_velocities_at_timestep_arr[i] = software_vel_cmd\n",
    "    voltage_cmd_arr[i] = command_voltage\n",
    "    brake_cmd_arr[i] = command_brakes\n",
    "    voltage_realized_arr[i] = true_voltage\n",
    "    brake_realized_arr[i] = true_brake_force\n",
    "    motor_current_arr[i] = true_motor_current\n",
    "    \n",
    "       \n",
    "    \n",
    "    "
   ]
  },
  {
   "cell_type": "code",
   "execution_count": 22,
   "metadata": {
    "jupyter": {
     "source_hidden": true
    },
    "tags": []
   },
   "outputs": [
    {
     "data": {
      "image/png": "[encoded data removed]",
      "text/plain": [
       "<Figure size 1728x345.6 with 1 Axes>"
      ]
     },
     "metadata": {
      "needs_background": "light"
     },
     "output_type": "display_data"
    },
    {
     "data": {
      "image/png": "[encoded data removed]",
      "text/plain": [
       "<Figure size 1728x345.6 with 2 Axes>"
      ]
     },
     "metadata": {
      "needs_background": "light"
     },
     "output_type": "display_data"
    },
    {
     "data": {
      "image/png": "[encoded data removed]",
      "text/plain": [
       "<Figure size 1728x345.6 with 2 Axes>"
      ]
     },
     "metadata": {
      "needs_background": "light"
     },
     "output_type": "display_data"
    },
    {
     "name": "stdout",
     "output_type": "stream",
     "text": [
      "RMS current value: 161.98208668368255\n",
      "Average brake power dissipation: 1629.298193681346\n",
      "Fraction of time brakes and motor on simultaneously: 0.07951875\n"
     ]
    },
    {
     "data": {
      "image/png": "[encoded data removed]",
      "text/plain": [
       "<Figure size 1728x345.6 with 1 Axes>"
      ]
     },
     "metadata": {
      "needs_background": "light"
     },
     "output_type": "display_data"
    }
   ],
   "source": [
    "#Plots!\n",
    "import matplotlib.pyplot as plt\n",
    "plot_resolution = 10    #Only plot one of every [this] values to accelerate plotting\n",
    "\n",
    "times_to_plot = times[::plot_resolution]\n",
    "true_velocities_to_plot = vel_kart_arr[::plot_resolution]\n",
    "\n",
    "plt.figure(1, figsize=(24, 4.8))\n",
    "plt.plot(software_velocity_times_commands[:,0], software_velocity_times_commands[:,1])\n",
    "plt.plot(times_to_plot, filtered_vel_arr[::plot_resolution])\n",
    "plt.plot(times_to_plot, true_velocities_to_plot)\n",
    "\n",
    "plt.title(\"Velocities\")\n",
    "plt.ylabel(\"m/s\")\n",
    "plt.xlabel(\"s\")\n",
    "plt.legend(['Software desired velocity', 'Smoothed Target Velocity', 'True velocity'])\n",
    "\n",
    "plt.show()\n",
    "\n",
    "plt.figure(2, figsize=(24, 4.8))\n",
    "plt.subplot(1, 2, 1)\n",
    "plt.plot(times_to_plot, true_velocities_to_plot)\n",
    "plt.plot(times_to_plot, estimated_vel_arr[::plot_resolution])\n",
    "\n",
    "plt.title(\"Estimated vs. true velocity\")\n",
    "plt.legend(['True velocity', \"Encoder estimated velocity\"])\n",
    "plt.ylabel(\"m/s\")\n",
    "plt.xlabel(\"s\")\n",
    "\n",
    "plt.subplot(1, 2, 2)\n",
    "plt.plot(times_to_plot, true_velocities_to_plot - software_command_velocities_at_timestep_arr[::plot_resolution])\n",
    "plt.plot(times_to_plot, true_velocities_to_plot - filtered_vel_arr[::plot_resolution])\n",
    "\n",
    "plt.title(\"Velocity error\")\n",
    "plt.legend([\"True velocity - software's command\", 'True velocity - Trapezoidal'])\n",
    "plt.ylabel(\"m/s\")\n",
    "plt.xlabel(\"s\")\n",
    "\n",
    "plt.show()\n",
    "\n",
    "plt.figure(3, figsize=(24, 4.8))\n",
    "plt.subplot(1, 2, 1)\n",
    "plt.plot(times_to_plot, motor_current_arr[::plot_resolution])\n",
    "plt.title(\"Motor current\")\n",
    "plt.ylabel(\"A\")\n",
    "plt.xlabel(\"s\")\n",
    "\n",
    "plt.subplot(1, 2, 2)\n",
    "plt.plot(times_to_plot, brake_realized_arr[::plot_resolution])\n",
    "plt.ylim(0, 1200)\n",
    "plt.title(\"Actual braking force\")\n",
    "plt.ylabel(\"N\")\n",
    "plt.xlabel(\"s\")\n",
    "plt.show()\n",
    "\n",
    "\n",
    "plt.figure(4, figsize=(24, 4.8))\n",
    "plt.plot(times_to_plot, voltage_cmd_arr[::plot_resolution])\n",
    "plt.plot(times_to_plot, voltage_realized_arr[::plot_resolution])\n",
    "\n",
    "plt.title(\"Voltages\")\n",
    "plt.ylabel(\"V\")\n",
    "plt.xlabel(\"s\")\n",
    "plt.legend(['Command voltage', 'True Voltage'])\n",
    "\n",
    "#Print out some stats\n",
    "stat_start_time = 10\n",
    "stat_end_time = 50\n",
    "off_threshold = 1\n",
    "stat_start_idx = int(stat_start_time/dt)\n",
    "stat_end_idx = int(stat_end_time/dt)\n",
    "\n",
    "rms_current = np.sqrt(np.mean(motor_current_arr[stat_start_idx:stat_end_idx]**2))\n",
    "avg_brake_power = np.mean(vel_kart_arr[stat_start_idx:stat_end_idx]*brake_realized_arr[stat_start_idx:stat_end_idx])\n",
    "print(\"RMS current value:\", rms_current)\n",
    "print(\"Average brake power dissipation:\", avg_brake_power)\n",
    "\n",
    "brakes_motor_simultaneous = np.logical_and(motor_current_arr[stat_start_idx:stat_end_idx]>off_threshold, brake_realized_arr[stat_start_idx:stat_end_idx]>off_threshold)\n",
    "print(\"Fraction of time brakes and motor on simultaneously:\", np.mean(brakes_motor_simultaneous))"
   ]
  }
 ],
 "metadata": {
  "kernelspec": {
   "display_name": "Python 3",
   "language": "python",
   "name": "python3"
  },
  "language_info": {
   "codemirror_mode": {
    "name": "ipython",
    "version": 3
   },
   "file_extension": ".py",
   "mimetype": "text/x-python",
   "name": "python",
   "nbconvert_exporter": "python",
   "pygments_lexer": "ipython3",
   "version": "3.7.9"
  }
 },
 "nbformat": 4,
 "nbformat_minor": 4
}
